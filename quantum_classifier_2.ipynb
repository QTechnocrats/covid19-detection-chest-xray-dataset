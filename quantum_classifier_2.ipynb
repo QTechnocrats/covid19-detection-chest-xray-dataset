{
  "nbformat": 4,
  "nbformat_minor": 0,
  "metadata": {
    "colab": {
      "name": "quantum_classifier_2.ipynb",
      "provenance": [],
      "collapsed_sections": [
        "zzBv5XkTGur2",
        "w38G4jmvGyzk",
        "bbj3YRynG3i0",
        "xaKqVa18IHz6",
        "3-jPuIBwItKu",
        "EuG6oxpIR95T",
        "up0q4ehrR_9r",
        "wKuT5KBeTiQk"
      ],
      "toc_visible": true
    },
    "kernelspec": {
      "name": "python3",
      "display_name": "Python 3"
    }
  },
  "cells": [
    {
      "cell_type": "markdown",
      "metadata": {
        "id": "zzBv5XkTGur2"
      },
      "source": [
        "# Installations and Imports"
      ]
    },
    {
      "cell_type": "code",
      "metadata": {
        "id": "9-xShbR18N_G"
      },
      "source": [
        "!pip install pennylane --upgrade\n",
        "\n",
        "from IPython.display import clear_output\n",
        "clear_output(wait=False)"
      ],
      "execution_count": 1,
      "outputs": []
    },
    {
      "cell_type": "code",
      "metadata": {
        "id": "lp2cLbPS8RhG"
      },
      "source": [
        "import pennylane as qml\n",
        "from pennylane import numpy as np\n",
        "from pennylane.templates import RandomLayers\n",
        "\n",
        "import tensorflow as tf\n",
        "from tensorflow import keras\n",
        "\n",
        "import pandas as pd\n",
        "import matplotlib.pyplot as plt\n",
        "import seaborn as sns\n",
        "\n",
        "sns.set_theme()\n",
        "\n",
        "from sklearn.decomposition import TruncatedSVD\n",
        "from sklearn.manifold import TSNE"
      ],
      "execution_count": 2,
      "outputs": []
    },
    {
      "cell_type": "markdown",
      "metadata": {
        "id": "w38G4jmvGyzk"
      },
      "source": [
        "# Importing data files"
      ]
    },
    {
      "cell_type": "markdown",
      "metadata": {
        "id": "do_NKSy-ZEdb"
      },
      "source": [
        "### npy data files created by the quanvolutional notebook has been imported here. "
      ]
    },
    {
      "cell_type": "code",
      "metadata": {
        "id": "gOJtRzhk7pXk"
      },
      "source": [
        "x_train_final = np.load(\"x_train_final.npy\")\n",
        "y_train = np.load(\"y_train.npy\")\n",
        "\n",
        "x_test_final = np.load(\"x_test_final.npy\")\n",
        "y_test = np.load(\"y_test.npy\")"
      ],
      "execution_count": 3,
      "outputs": []
    },
    {
      "cell_type": "code",
      "metadata": {
        "colab": {
          "base_uri": "https://localhost:8080/"
        },
        "id": "3z0DcNmj8jWB",
        "outputId": "7acf53d7-a0d4-4668-fee6-1fc16a3f8032"
      },
      "source": [
        "x_train_final.shape, y_train.shape, x_test_final.shape, y_test.shape"
      ],
      "execution_count": 4,
      "outputs": [
        {
          "output_type": "execute_result",
          "data": {
            "text/plain": [
              "((250, 256), (250,), (65, 256), (65,))"
            ]
          },
          "metadata": {
            "tags": []
          },
          "execution_count": 4
        }
      ]
    },
    {
      "cell_type": "markdown",
      "metadata": {
        "id": "BOInXgW1YlhH"
      },
      "source": [
        "## Reducing 256 features of each image to 4 using TruncatedSVD because it is not feasible to encode 256 features for each image in a quantum circuit. "
      ]
    },
    {
      "cell_type": "code",
      "metadata": {
        "id": "CfIBVCzNYq2m"
      },
      "source": [
        "tsvd = TruncatedSVD(n_components=4)\n",
        "x_train_final = tsvd.fit_transform(x_train_final)\n",
        "x_test_final = tsvd.fit_transform(x_test_final)\n",
        "\n",
        "\n",
        "# np.random.seed(0)\n",
        "# tsne = TSNE(n_components=2)\n",
        "# train_data_features_reduced = tsne.fit_transform(X_SVD)"
      ],
      "execution_count": 5,
      "outputs": []
    },
    {
      "cell_type": "code",
      "metadata": {
        "colab": {
          "base_uri": "https://localhost:8080/"
        },
        "id": "x8xi56EtbL6w",
        "outputId": "6284cc6c-4d78-4096-e87d-8618431de1f4"
      },
      "source": [
        "x_train_final.shape, x_test_final.shape"
      ],
      "execution_count": 6,
      "outputs": [
        {
          "output_type": "execute_result",
          "data": {
            "text/plain": [
              "((250, 4), (65, 4))"
            ]
          },
          "metadata": {
            "tags": []
          },
          "execution_count": 6
        }
      ]
    },
    {
      "cell_type": "markdown",
      "metadata": {
        "id": "1Hq0EwtDZ-Va"
      },
      "source": [
        "# Classifier Model description\n",
        "\n",
        "### In the dataset we have three classses - Covid19, Viral Penumonia and Normal person. \n",
        "\n",
        "### Our approach is to divide the classfier in two different models. First model will classify between the classes 'Normal Person' and 'Covid19/Viral Pneumonia'. Second model will classify between the classes 'Covid' and 'Viral Penumonia' \n",
        "\n",
        "### First model here is denoted by Model-1 and second one by Model-2. "
      ]
    },
    {
      "cell_type": "markdown",
      "metadata": {
        "id": "bbj3YRynG3i0"
      },
      "source": [
        "# Required functions for classifier model-1"
      ]
    },
    {
      "cell_type": "code",
      "metadata": {
        "id": "WmRvuHrfG96o"
      },
      "source": [
        "def statepreparation_1(a):\n",
        "\n",
        "\n",
        "    qml.Hadamard(wires=0)\n",
        "    qml.Hadamard(wires=1)\n",
        "    \n",
        "    qml.RZ(a[0], wires=0)\n",
        "    qml.RZ(a[1], wires=1)\n",
        "    qml.CNOT(wires=[0,1])\n",
        "    qml.RZ(a[0]*a[1], wires=1)\n",
        "    qml.CNOT(wires=[0,1])\n",
        "\n",
        "    qml.Hadamard(wires=0)\n",
        "    qml.Hadamard(wires=1)\n",
        "    \n",
        "    qml.RZ(a[2], wires=0)\n",
        "    qml.RZ(a[3], wires=1)\n",
        "    qml.CNOT(wires=[0,1])\n",
        "    qml.RZ(a[2]*a[3], wires=1)\n",
        "    qml.CNOT(wires=[0,1])\n",
        "\n",
        "\n",
        "    "
      ],
      "execution_count": 7,
      "outputs": []
    },
    {
      "cell_type": "code",
      "metadata": {
        "id": "L5MOaNj_HKa2"
      },
      "source": [
        "def layer_1(W):\n",
        "    qml.Rot(W[0, 0], W[0, 1], W[0, 2], wires=0)\n",
        "    qml.Rot(W[1, 0], W[1, 1], W[1, 2], wires=1)\n",
        "    # qml.Rot(W[2, 0], W[2, 1], W[2, 2], wires=2)\n",
        "    \n",
        "    qml.CNOT(wires=[0, 1])\n",
        "    # qml.CNOT(wires=[0, 2])\n",
        "    # qml.CNOT(wires=[1, 2])"
      ],
      "execution_count": 8,
      "outputs": []
    },
    {
      "cell_type": "code",
      "metadata": {
        "id": "CjT9YycqHMvK"
      },
      "source": [
        "dev_1 = qml.device(\"default.qubit\", wires=2)\n",
        "@qml.qnode(dev_1)\n",
        "def circuit_1(weights, x=None):\n",
        "    \n",
        "    # Feature mapping\n",
        "    statepreparation_1(x)\n",
        "    # variational classifier\n",
        "    for w in weights:\n",
        "        layer_1(w)\n",
        "    \n",
        "    return qml.expval(qml.PauliZ(1))"
      ],
      "execution_count": 9,
      "outputs": []
    },
    {
      "cell_type": "code",
      "metadata": {
        "id": "pE4EPKw1HUH3"
      },
      "source": [
        "def classifier_training_1(params, x=None, y=None):\n",
        "    weights = params[0]\n",
        "    bias = params[1]\n",
        "\n",
        "    out_probs = circuit_1(weights, x=x) + bias\n",
        "    return (out_probs-y)**2\n"
      ],
      "execution_count": 10,
      "outputs": []
    },
    {
      "cell_type": "code",
      "metadata": {
        "id": "26WdKy7PHxgQ"
      },
      "source": [
        "def classifier_prediction_1(params, x=None):\n",
        "    weights = params[0]\n",
        "    bias = params[1]\n",
        "\n",
        "    out_probs = circuit_1(weights, x=x) + bias\n",
        "\n",
        "    \n",
        "    if(out_probs>0):\n",
        "        return 1\n",
        "    else:\n",
        "        return -1"
      ],
      "execution_count": 11,
      "outputs": []
    },
    {
      "cell_type": "code",
      "metadata": {
        "id": "x1jtRUU2H3rF"
      },
      "source": [
        "def circuit_output_test(params, x=None):\n",
        "    weights = params[0]\n",
        "    bias = params[1]\n",
        "\n",
        "    out_probs = circuit(weights, x=x) + bias\n",
        "\n",
        "    return out_probs\n"
      ],
      "execution_count": 12,
      "outputs": []
    },
    {
      "cell_type": "code",
      "metadata": {
        "id": "h8zNvXOuH7F4"
      },
      "source": [
        " def cost_1(params, X, Y):\n",
        "\n",
        "    y_pred = np.array([classifier_training_1(params, x=X[i], y=Y[i]) for i in range(len(Y))])\n",
        "\n",
        "    cost = np.sum(y_pred) / len(Y)\n",
        "    return cost"
      ],
      "execution_count": 13,
      "outputs": []
    },
    {
      "cell_type": "code",
      "metadata": {
        "id": "PnwvdZSDH-c8"
      },
      "source": [
        "def accuracy_1(params, x_train, y_train, iter):\n",
        "\n",
        "    y_pred_train = np.array([classifier_prediction_1(params, x=x) for x in x_train])\n",
        "    acc_train = np.sum(y_pred_train==y_train) / len(y_train)\n",
        "\n",
        "    print(\"Iter=> {}   train_cost=> {}   train_acc=> {} \".format(iter+1, cost_1(params, x_train, y_train), acc_train))\n",
        "\n",
        "    return acc_train\n"
      ],
      "execution_count": 14,
      "outputs": []
    },
    {
      "cell_type": "markdown",
      "metadata": {
        "id": "xaKqVa18IHz6"
      },
      "source": [
        "# Required functions for classifier model-2"
      ]
    },
    {
      "cell_type": "code",
      "metadata": {
        "id": "tMNtf9DcIDmO"
      },
      "source": [
        "def statepreparation_2(a):\n",
        "\n",
        "\n",
        "    qml.Hadamard(wires=0)\n",
        "    qml.Hadamard(wires=1)\n",
        "    \n",
        "    qml.RZ(a[0], wires=0)\n",
        "    qml.RZ(a[1], wires=1)\n",
        "    qml.CNOT(wires=[0,1])\n",
        "    qml.RZ(a[0]*a[1], wires=1)\n",
        "    qml.CNOT(wires=[0,1])\n",
        "\n",
        "    qml.Hadamard(wires=0)\n",
        "    qml.Hadamard(wires=1)\n",
        "    \n",
        "    qml.RZ(a[2], wires=0)\n",
        "    qml.RZ(a[3], wires=1)\n",
        "    qml.CNOT(wires=[0,1])\n",
        "    qml.RZ(a[2]*a[3], wires=1)\n",
        "    qml.CNOT(wires=[0,1])\n",
        "\n",
        "\n",
        "    \n",
        "    \n"
      ],
      "execution_count": 15,
      "outputs": []
    },
    {
      "cell_type": "code",
      "metadata": {
        "id": "HAXZ-a1aIQqG"
      },
      "source": [
        "def layer_2(W):\n",
        "    qml.Rot(W[0, 0], W[0, 1], W[0, 2], wires=0)\n",
        "    qml.Rot(W[1, 0], W[1, 1], W[1, 2], wires=1)\n",
        "    # qml.Rot(W[2, 0], W[2, 1], W[2, 2], wires=2)\n",
        "    \n",
        "    qml.CNOT(wires=[0, 1])\n",
        "    # qml.CNOT(wires=[0, 2])\n",
        "    # qml.CNOT(wires=[1, 2])"
      ],
      "execution_count": 16,
      "outputs": []
    },
    {
      "cell_type": "code",
      "metadata": {
        "id": "9EZJ7OJcIT62"
      },
      "source": [
        "dev_2 = qml.device(\"default.qubit\", wires=2)\n",
        "@qml.qnode(dev_2)\n",
        "def circuit_2(weights, x=None):\n",
        "    \n",
        "    # Feature mapping\n",
        "    statepreparation_2(x)\n",
        "    \n",
        "    # variational classifier\n",
        "    for w in weights:\n",
        "        layer_2(w)\n",
        "    \n",
        "    return qml.expval(qml.PauliZ(1))"
      ],
      "execution_count": 17,
      "outputs": []
    },
    {
      "cell_type": "code",
      "metadata": {
        "id": "iumVNlMWIcDg"
      },
      "source": [
        "def classifier_training_2(params, x=None, y=None):\n",
        "    weights = params[0]\n",
        "    bias = params[1]\n",
        "\n",
        "    out_probs = circuit_2(weights, x=x) + bias\n",
        "    return (out_probs-y)**2"
      ],
      "execution_count": 18,
      "outputs": []
    },
    {
      "cell_type": "code",
      "metadata": {
        "id": "aC47T9L6Ih2V"
      },
      "source": [
        "def classifier_prediction_2(params, x=None):\n",
        "    weights = params[0]\n",
        "    bias = params[1]\n",
        "\n",
        "    out_probs = circuit_2(weights, x=x) + bias\n",
        "\n",
        "    \n",
        "    if(out_probs>0):\n",
        "        return 1\n",
        "    else:\n",
        "        return -1"
      ],
      "execution_count": 19,
      "outputs": []
    },
    {
      "cell_type": "code",
      "metadata": {
        "id": "Lix_uPNYIlJT"
      },
      "source": [
        "def cost_2(params, X, Y):\n",
        "\n",
        "    y_pred = np.array([classifier_training_2(params, x=X[i], y=Y[i]) for i in range(len(Y))])\n",
        "\n",
        "    cost = np.sum(y_pred) / len(Y)\n",
        "    return cost\n"
      ],
      "execution_count": 20,
      "outputs": []
    },
    {
      "cell_type": "code",
      "metadata": {
        "id": "yZAVHcVOIoXE"
      },
      "source": [
        "def accuracy_2(params, x_train, y_train, iter):\n",
        "\n",
        "    y_pred_train = np.array([classifier_prediction_2(params, x=x) for x in x_train])\n",
        "    acc_train = np.sum(y_pred_train==y_train) / len(y_train)\n",
        "\n",
        "    print(\"Iter=> {}   train_cost=> {}   train_acc=> {} \".format(iter+1, cost_2(params, x_train, y_train), acc_train))\n",
        "\n",
        "    return acc_train\n",
        "    "
      ],
      "execution_count": 21,
      "outputs": []
    },
    {
      "cell_type": "markdown",
      "metadata": {
        "id": "3-jPuIBwItKu"
      },
      "source": [
        "# Model-1"
      ]
    },
    {
      "cell_type": "markdown",
      "metadata": {
        "id": "3BFJgYEPKMlX"
      },
      "source": [
        "## Data for model-1\n",
        "\n",
        "0->covid, 1->Normal, 2->Penumonia"
      ]
    },
    {
      "cell_type": "markdown",
      "metadata": {
        "id": "LNCzJd3UamAp"
      },
      "source": [
        "#### Here the labels are modified accordinglly for Model-1"
      ]
    },
    {
      "cell_type": "code",
      "metadata": {
        "id": "DC-vze_qIrlM"
      },
      "source": [
        "x_train_1 = np.copy(x_train_final)\n",
        "y_train_1 = []\n",
        "\n",
        "for i in range(len(y_train)):\n",
        "    if(y_train[i]==0 or y_train[i]==2):  ##Covid or pneumonia\n",
        "        y_train_1.append(-1)\n",
        "    elif(y_train[i]==1):  ##normal person\n",
        "        y_train_1.append(1)\n",
        "\n",
        "y_train_1 = np.array(y_train_1)"
      ],
      "execution_count": 22,
      "outputs": []
    },
    {
      "cell_type": "markdown",
      "metadata": {
        "id": "xhZkWLIDLjiY"
      },
      "source": [
        "## Binary Classifier Model-1"
      ]
    },
    {
      "cell_type": "code",
      "metadata": {
        "colab": {
          "base_uri": "https://localhost:8080/"
        },
        "id": "YylpUnE0K7Y5",
        "outputId": "bcf0dcd8-37ad-4fc7-c64c-454415e94bd9"
      },
      "source": [
        "params_1 = (0.01 * np.random.randn(2, 2, 3), 0.0)\n",
        "params_1"
      ],
      "execution_count": 23,
      "outputs": [
        {
          "output_type": "execute_result",
          "data": {
            "text/plain": [
              "(tensor([[[ 0.01168377,  0.00207123,  0.01108567],\n",
              "          [ 0.0161775 ,  0.01056683, -0.01069625]],\n",
              " \n",
              "         [[ 0.01289499,  0.00993765, -0.00106323],\n",
              "          [-0.00879334, -0.01935086,  0.00173846]]], requires_grad=True), 0.0)"
            ]
          },
          "metadata": {
            "tags": []
          },
          "execution_count": 23
        }
      ]
    },
    {
      "cell_type": "code",
      "metadata": {
        "colab": {
          "base_uri": "https://localhost:8080/"
        },
        "id": "nHkAyNQ3LTbW",
        "outputId": "363f8bd3-c625-4ec5-bd85-3f3e44d62d0f"
      },
      "source": [
        "iters = 20\n",
        "optimizer_1 = qml.NesterovMomentumOptimizer(stepsize=0.5)\n",
        "\n",
        "cost_list_1 = []\n",
        "train_acc_list_1 = []\n",
        "\n",
        "for iter in range(iters):\n",
        "    params_1 = optimizer_1.step(lambda v: cost_1(v, x_train_1, y_train_1), params_1)\n",
        "\n",
        "    cost_list_1.append(cost_1(params_1, x_train_1, y_train_1))\n",
        "    train_acc_list_1.append(accuracy_1(params_1, x_train_1, y_train_1, iter))"
      ],
      "execution_count": 24,
      "outputs": [
        {
          "output_type": "stream",
          "text": [
            "Iter=> 1   train_cost=> 1.0348610276447712   train_acc=> 0.652 \n",
            "Iter=> 2   train_cost=> 1.027567824906426   train_acc=> 0.656 \n",
            "Iter=> 3   train_cost=> 1.0125761775938904   train_acc=> 0.648 \n",
            "Iter=> 4   train_cost=> 0.9855788238745938   train_acc=> 0.648 \n",
            "Iter=> 5   train_cost=> 0.9470821054751705   train_acc=> 0.668 \n",
            "Iter=> 6   train_cost=> 0.9089055391278965   train_acc=> 0.668 \n",
            "Iter=> 7   train_cost=> 0.8836045476752277   train_acc=> 0.68 \n",
            "Iter=> 8   train_cost=> 0.8711020460304444   train_acc=> 0.676 \n",
            "Iter=> 9   train_cost=> 0.8647179397210433   train_acc=> 0.684 \n",
            "Iter=> 10   train_cost=> 0.8590301300073135   train_acc=> 0.664 \n",
            "Iter=> 11   train_cost=> 0.8516275156378001   train_acc=> 0.676 \n",
            "Iter=> 12   train_cost=> 0.8421229266774622   train_acc=> 0.668 \n",
            "Iter=> 13   train_cost=> 0.8309048433256314   train_acc=> 0.664 \n",
            "Iter=> 14   train_cost=> 0.8192354723426011   train_acc=> 0.68 \n",
            "Iter=> 15   train_cost=> 0.8094895542407462   train_acc=> 0.68 \n",
            "Iter=> 16   train_cost=> 0.8036458132425125   train_acc=> 0.692 \n",
            "Iter=> 17   train_cost=> 0.8016170784514034   train_acc=> 0.712 \n",
            "Iter=> 18   train_cost=> 0.8015775442956978   train_acc=> 0.716 \n",
            "Iter=> 19   train_cost=> 0.8014571131215886   train_acc=> 0.724 \n",
            "Iter=> 20   train_cost=> 0.8000754259017073   train_acc=> 0.704 \n"
          ],
          "name": "stdout"
        }
      ]
    },
    {
      "cell_type": "markdown",
      "metadata": {
        "id": "WJR_CZxnbCQQ"
      },
      "source": [
        "## Cost Plot of Model-1"
      ]
    },
    {
      "cell_type": "code",
      "metadata": {
        "colab": {
          "base_uri": "https://localhost:8080/",
          "height": 285
        },
        "id": "mSfkeIQjbJaQ",
        "outputId": "a2808f5f-22a0-4bd6-beff-8ee29285c625"
      },
      "source": [
        "plt.plot(cost_list_1)"
      ],
      "execution_count": 25,
      "outputs": [
        {
          "output_type": "execute_result",
          "data": {
            "text/plain": [
              "[<matplotlib.lines.Line2D at 0x7f81f31cd610>]"
            ]
          },
          "metadata": {
            "tags": []
          },
          "execution_count": 25
        },
        {
          "output_type": "display_data",
          "data": {
            "image/png": "[encoded data removed]",
            "text/plain": [
              "<Figure size 432x288 with 1 Axes>"
            ]
          },
          "metadata": {
            "tags": []
          }
        }
      ]
    },
    {
      "cell_type": "markdown",
      "metadata": {
        "id": "DlXbxvn7bMIb"
      },
      "source": [
        "## Training Accuracy Plot of Model-1"
      ]
    },
    {
      "cell_type": "code",
      "metadata": {
        "colab": {
          "base_uri": "https://localhost:8080/",
          "height": 285
        },
        "id": "EA2bGcwbbQP7",
        "outputId": "e96c231c-619a-40b0-93a9-ffae901ed780"
      },
      "source": [
        "plt.plot(train_acc_list_1)"
      ],
      "execution_count": 27,
      "outputs": [
        {
          "output_type": "execute_result",
          "data": {
            "text/plain": [
              "[<matplotlib.lines.Line2D at 0x7f81f347ac90>]"
            ]
          },
          "metadata": {
            "tags": []
          },
          "execution_count": 27
        },
        {
          "output_type": "display_data",
          "data": {
            "image/png": "[encoded data removed]",
            "text/plain": [
              "<Figure size 432x288 with 1 Axes>"
            ]
          },
          "metadata": {
            "tags": []
          }
        }
      ]
    },
    {
      "cell_type": "markdown",
      "metadata": {
        "id": "EuG6oxpIR95T"
      },
      "source": [
        "# Model-2"
      ]
    },
    {
      "cell_type": "markdown",
      "metadata": {
        "id": "up0q4ehrR_9r"
      },
      "source": [
        "## Data for model-2\n",
        "0->covid, 1->Normal, 2->Penumonia"
      ]
    },
    {
      "cell_type": "markdown",
      "metadata": {
        "id": "44II7vAEbYTy"
      },
      "source": [
        "#### Here the labels are modified accordinglly for Model-2"
      ]
    },
    {
      "cell_type": "code",
      "metadata": {
        "id": "MG-55rGiSGaI"
      },
      "source": [
        "x_train_2 = []\n",
        "y_train_2 = []\n",
        "\n",
        "for i in range(len(y_train)):\n",
        "    if(y_train[i]==0):   ## covid\n",
        "        x_train_2.append(x_train_final[i])\n",
        "        y_train_2.append(1)\n",
        "    elif(y_train[i]==2):  ## pneumonia\n",
        "        x_train_2.append(x_train_final[i])\n",
        "        y_train_2.append(-1)\n",
        "\n",
        "\n",
        "x_train_2 = np.array(x_train_2)\n",
        "y_train_2 = np.array(y_train_2)"
      ],
      "execution_count": 28,
      "outputs": []
    },
    {
      "cell_type": "markdown",
      "metadata": {
        "id": "d-DYdwjIS4_T"
      },
      "source": [
        "## Binary Classifier Model-2"
      ]
    },
    {
      "cell_type": "code",
      "metadata": {
        "colab": {
          "base_uri": "https://localhost:8080/"
        },
        "id": "osCtRvneS3FM",
        "outputId": "b2f242c0-84a7-4426-b21b-f0a3f75f40b5"
      },
      "source": [
        "params_2 = (0.01 * np.random.randn(2, 2, 3), 0.0)\n",
        "params_2"
      ],
      "execution_count": 29,
      "outputs": [
        {
          "output_type": "execute_result",
          "data": {
            "text/plain": [
              "(tensor([[[ 0.00982229, -0.01051254, -0.00914393],\n",
              "          [ 0.00723045,  0.02842324,  0.02840841]],\n",
              " \n",
              "         [[ 0.01032002, -0.00327675, -0.00191936],\n",
              "          [-0.01266729, -0.00914445, -0.00208504]]], requires_grad=True), 0.0)"
            ]
          },
          "metadata": {
            "tags": []
          },
          "execution_count": 29
        }
      ]
    },
    {
      "cell_type": "code",
      "metadata": {
        "colab": {
          "base_uri": "https://localhost:8080/"
        },
        "id": "uKoRU8xBTEiL",
        "outputId": "26a33c3c-5da7-4b89-f922-a542bb932569"
      },
      "source": [
        "iters = 20\n",
        "optimizer_2 = qml.NesterovMomentumOptimizer(stepsize=0.1)\n",
        "\n",
        "cost_list_2 = []\n",
        "train_acc_list_2 = []\n",
        "\n",
        "for iter in range(iters):\n",
        "    params_2 = optimizer_2.step(lambda v: cost_2(v, x_train_2, y_train_2), params_2)\n",
        "\n",
        "    cost_list_2.append(cost_2(params_2, x_train_2, y_train_2))\n",
        "    train_acc_list_2.append(accuracy_2(params_2, x_train_2, y_train_2, iter))"
      ],
      "execution_count": 30,
      "outputs": [
        {
          "output_type": "stream",
          "text": [
            "Iter=> 1   train_cost=> 1.2614721878608255   train_acc=> 0.4666666666666667 \n",
            "Iter=> 2   train_cost=> 1.2355844199126527   train_acc=> 0.5388888888888889 \n",
            "Iter=> 3   train_cost=> 1.219687970878121   train_acc=> 0.5277777777777778 \n",
            "Iter=> 4   train_cost=> 1.2143219322766938   train_acc=> 0.5444444444444444 \n",
            "Iter=> 5   train_cost=> 1.2128913745419498   train_acc=> 0.5555555555555556 \n",
            "Iter=> 6   train_cost=> 1.2091136338732122   train_acc=> 0.55 \n",
            "Iter=> 7   train_cost=> 1.2007423257853913   train_acc=> 0.5555555555555556 \n",
            "Iter=> 8   train_cost=> 1.1889561153269006   train_acc=> 0.5611111111111111 \n",
            "Iter=> 9   train_cost=> 1.175910452260856   train_acc=> 0.5611111111111111 \n",
            "Iter=> 10   train_cost=> 1.162933961294422   train_acc=> 0.5444444444444444 \n",
            "Iter=> 11   train_cost=> 1.1502248304824492   train_acc=> 0.5277777777777778 \n",
            "Iter=> 12   train_cost=> 1.1374995762124938   train_acc=> 0.5166666666666667 \n",
            "Iter=> 13   train_cost=> 1.1246758401958146   train_acc=> 0.5166666666666667 \n",
            "Iter=> 14   train_cost=> 1.1120837835201536   train_acc=> 0.5277777777777778 \n",
            "Iter=> 15   train_cost=> 1.1002562114858783   train_acc=> 0.5388888888888889 \n",
            "Iter=> 16   train_cost=> 1.0896133246073896   train_acc=> 0.5611111111111111 \n",
            "Iter=> 17   train_cost=> 1.0802927796733701   train_acc=> 0.5666666666666667 \n",
            "Iter=> 18   train_cost=> 1.0721744595066323   train_acc=> 0.5833333333333334 \n",
            "Iter=> 19   train_cost=> 1.0650063407002008   train_acc=> 0.5777777777777777 \n",
            "Iter=> 20   train_cost=> 1.058519637353856   train_acc=> 0.5666666666666667 \n"
          ],
          "name": "stdout"
        }
      ]
    },
    {
      "cell_type": "markdown",
      "metadata": {
        "id": "hMXTbea5b8Dl"
      },
      "source": [
        "## Cost Plot of Model-2"
      ]
    },
    {
      "cell_type": "code",
      "metadata": {
        "colab": {
          "base_uri": "https://localhost:8080/",
          "height": 285
        },
        "id": "EK1f0lJVb_x8",
        "outputId": "04a888a8-8d1d-4d64-ea71-ff73ca2076ef"
      },
      "source": [
        "plt.plot(cost_list_2)"
      ],
      "execution_count": 31,
      "outputs": [
        {
          "output_type": "execute_result",
          "data": {
            "text/plain": [
              "[<matplotlib.lines.Line2D at 0x7f81f46ed090>]"
            ]
          },
          "metadata": {
            "tags": []
          },
          "execution_count": 31
        },
        {
          "output_type": "display_data",
          "data": {
            "image/png": "[encoded data removed]",
            "text/plain": [
              "<Figure size 432x288 with 1 Axes>"
            ]
          },
          "metadata": {
            "tags": []
          }
        }
      ]
    },
    {
      "cell_type": "markdown",
      "metadata": {
        "id": "Gt_cb42hcBwE"
      },
      "source": [
        "## Training Accuracy Plot of Model-2"
      ]
    },
    {
      "cell_type": "code",
      "metadata": {
        "colab": {
          "base_uri": "https://localhost:8080/",
          "height": 285
        },
        "id": "1GfGICSMcFU1",
        "outputId": "6a147206-ac13-42c5-8f13-458be9290ffc"
      },
      "source": [
        "plt.plot(train_acc_list_2)"
      ],
      "execution_count": 32,
      "outputs": [
        {
          "output_type": "execute_result",
          "data": {
            "text/plain": [
              "[<matplotlib.lines.Line2D at 0x7f81f33cf2d0>]"
            ]
          },
          "metadata": {
            "tags": []
          },
          "execution_count": 32
        },
        {
          "output_type": "display_data",
          "data": {
            "image/png": "[encoded data removed]",
            "text/plain": [
              "<Figure size 432x288 with 1 Axes>"
            ]
          },
          "metadata": {
            "tags": []
          }
        }
      ]
    },
    {
      "cell_type": "markdown",
      "metadata": {
        "id": "wKuT5KBeTiQk"
      },
      "source": [
        "# Prediction"
      ]
    },
    {
      "cell_type": "markdown",
      "metadata": {
        "id": "bx_Iy3g1ch3k"
      },
      "source": [
        "### While Predicting, we first give input to the Model-1. If it predicts as Normal person, then it is the final prediction assigned to the input. If not, then we give the same input to Model-2 and it finally predicts whether the chest x-ray is Covid10 patient or Viral Pneumonia patient. "
      ]
    },
    {
      "cell_type": "code",
      "metadata": {
        "id": "7Y1yxaM9Tao4"
      },
      "source": [
        "y_pred = []\n",
        "\n",
        "for i in range(len(x_test_final)):\n",
        "    tmp = classifier_prediction_1(params_1, x=x_test_final[i])\n",
        "    if (tmp == 1):  ## Normal person\n",
        "        y_pred.append(1)\n",
        "    else:   ## Covid or Pneumonia\n",
        "        tmp = classifier_prediction_2(params_2, x=x_test_final[i])\n",
        "        if(tmp == 1):  ## covid\n",
        "            y_pred.append(0)\n",
        "        elif(tmp == -1): ## Pneumonia\n",
        "            y_pred.append(2)\n",
        "\n",
        "y_pred = np.array(y_pred)"
      ],
      "execution_count": 33,
      "outputs": []
    },
    {
      "cell_type": "code",
      "metadata": {
        "colab": {
          "base_uri": "https://localhost:8080/"
        },
        "id": "r1trY_8EUuaM",
        "outputId": "85e665ad-b003-410a-cd9e-8c9d275c849c"
      },
      "source": [
        "print(\"Final_Test_Accuracy => \", np.sum(y_pred==y_test)/len(y_test))"
      ],
      "execution_count": 34,
      "outputs": [
        {
          "output_type": "stream",
          "text": [
            "Final_Test_Accuracy =>  0.4461538461538462\n"
          ],
          "name": "stdout"
        }
      ]
    },
    {
      "cell_type": "markdown",
      "metadata": {
        "id": "FUB3hkEScktx"
      },
      "source": [
        "### We are hopeful to in increment in this accuracy when it will be trained on real computer with larger dataset. "
      ]
    }
  ]
}