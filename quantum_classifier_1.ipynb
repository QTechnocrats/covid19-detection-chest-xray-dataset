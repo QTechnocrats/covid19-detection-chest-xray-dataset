{
  "nbformat": 4,
  "nbformat_minor": 0,
  "metadata": {
    "colab": {
      "name": "quantum_classifier_1.ipynb",
      "provenance": [],
      "toc_visible": true
    },
    "kernelspec": {
      "display_name": "Python 3",
      "language": "python",
      "name": "python3"
    },
    "language_info": {
      "codemirror_mode": {
        "name": "ipython",
        "version": 3
      },
      "file_extension": ".py",
      "mimetype": "text/x-python",
      "name": "python",
      "nbconvert_exporter": "python",
      "pygments_lexer": "ipython3",
      "version": "3.7.6"
    }
  },
  "cells": [
    {
      "cell_type": "markdown",
      "metadata": {
        "id": "zzBv5XkTGur2"
      },
      "source": [
        "# Installations and Imports"
      ]
    },
    {
      "cell_type": "code",
      "metadata": {
        "id": "9-xShbR18N_G"
      },
      "source": [
        "!pip install pennylane --upgrade\n",
        "\n",
        "from IPython.display import clear_output\n",
        "clear_output(wait=False)"
      ],
      "execution_count": 1,
      "outputs": []
    },
    {
      "cell_type": "code",
      "metadata": {
        "id": "lp2cLbPS8RhG"
      },
      "source": [
        "import pennylane as qml\n",
        "from pennylane import numpy as np\n",
        "from pennylane.templates import RandomLayers\n",
        "\n",
        "\n",
        "#import tensorflow as tf\n",
        "#from tensorflow import keras\n",
        "\n",
        "import pandas as pd\n",
        "import matplotlib.pyplot as plt"
      ],
      "execution_count": 2,
      "outputs": []
    },
    {
      "cell_type": "markdown",
      "metadata": {
        "id": "w38G4jmvGyzk"
      },
      "source": [
        "# Importing data files"
      ]
    },
    {
      "cell_type": "markdown",
      "metadata": {
        "id": "LHAjYB6-Mhy9"
      },
      "source": [
        "### npy data files created by the quanvolutional notebook has been imported here. "
      ]
    },
    {
      "cell_type": "code",
      "metadata": {
        "id": "gOJtRzhk7pXk"
      },
      "source": [
        "x_train_final = np.load(\"x_train_final.npy\")\n",
        "y_train = np.load(\"y_train.npy\")\n",
        "\n",
        "x_test_final = np.load(\"x_test_final.npy\")\n",
        "y_test = np.load(\"y_test.npy\")"
      ],
      "execution_count": null,
      "outputs": []
    },
    {
      "cell_type": "code",
      "metadata": {
        "colab": {
          "base_uri": "https://localhost:8080/"
        },
        "id": "3z0DcNmj8jWB",
        "outputId": "2a1039fc-a5d4-4204-ff0a-14aefc80ca8c"
      },
      "source": [
        "x_train_final.shape, y_train.shape, x_test_final.shape, y_test.shape"
      ],
      "execution_count": null,
      "outputs": [
        {
          "output_type": "execute_result",
          "data": {
            "text/plain": [
              "((250, 256), (250,), (65, 256), (65,))"
            ]
          },
          "metadata": {
            "tags": []
          },
          "execution_count": 4
        }
      ]
    },
    {
      "cell_type": "markdown",
      "metadata": {
        "id": "oy37edV6Mu-G"
      },
      "source": [
        "#### train and test data has been concatenated for further size reduction as 256 features are hard to be encoded on a quantum circuit. "
      ]
    },
    {
      "cell_type": "code",
      "metadata": {
        "id": "Ebzr82i2LoGO",
        "outputId": "679b96c9-9fa3-44f0-9309-63b5e117ba8b"
      },
      "source": [
        "X = np.concatenate((x_train_final, x_test_final))\n",
        "Y = np.concatenate((y_train, y_test))\n",
        "print(X.shape)"
      ],
      "execution_count": null,
      "outputs": [
        {
          "output_type": "stream",
          "text": [
            "(315, 256)\n"
          ],
          "name": "stdout"
        }
      ]
    },
    {
      "cell_type": "markdown",
      "metadata": {
        "id": "T3C_OXBWNF90"
      },
      "source": [
        "#### from 256 features, 11 feautes has been selected that will be used further.  "
      ]
    },
    {
      "cell_type": "code",
      "metadata": {
        "id": "EbIaiDf2LoGP",
        "outputId": "6389c002-f939-4043-f0c6-bfaa4ab93b56"
      },
      "source": [
        "from sklearn.svm import LinearSVC\n",
        "from sklearn.feature_selection import SelectFromModel\n",
        "lsvc = LinearSVC(C=0.01, penalty=\"l1\", dual=False).fit(X, Y)\n",
        "model = SelectFromModel(lsvc, prefit=True)\n",
        "X = model.transform(X)\n",
        "print(X.shape)\n",
        "\n"
      ],
      "execution_count": null,
      "outputs": [
        {
          "output_type": "stream",
          "text": [
            "(315, 11)\n"
          ],
          "name": "stdout"
        }
      ]
    },
    {
      "cell_type": "markdown",
      "metadata": {
        "id": "OV0PX3SMNSif"
      },
      "source": [
        "#### Train and test data has been seperated again. "
      ]
    },
    {
      "cell_type": "code",
      "metadata": {
        "id": "hU8stCyPLoGQ"
      },
      "source": [
        "x_train_final = (X[:250])\n",
        "x_test_final = (X[250:])"
      ],
      "execution_count": null,
      "outputs": []
    },
    {
      "cell_type": "code",
      "metadata": {
        "id": "VyDjP3oALoGS",
        "outputId": "59a1b96e-e645-456f-942c-455f10285dcd"
      },
      "source": [
        "from matplotlib.lines import Line2D\n",
        "from matplotlib.patches import Patch\n",
        "\n",
        "colours = [\"#ec6f86\", \"#4573e7\", \"#ad61ed\"]\n",
        "\n",
        "\n",
        "def plot_points(x_train, y_train, x_test, y_test):\n",
        "    c_train = []\n",
        "    c_test = []\n",
        "\n",
        "    for y in y_train:\n",
        "        c_train.append(colours[y])\n",
        "\n",
        "    for y in y_test:\n",
        "        c_test.append(colours[y])\n",
        "\n",
        "    plt.scatter(x_train[:, 0], x_train[:, 1], c=c_train)\n",
        "    plt.scatter(x_test[:, 0], x_test[:, 1], c=c_test, marker=\"x\")\n",
        "\n",
        "    plt.xlabel(\"Feature 1\", fontsize=16)\n",
        "    plt.ylabel(\"Feature 2\", fontsize=16)\n",
        "\n",
        "    ax = plt.gca()\n",
        "    ax.set_aspect(1)\n",
        "\n",
        "    c_transparent = \"#00000000\"\n",
        "\n",
        "    custom_lines = [\n",
        "        Patch(facecolor=colours[0], edgecolor=c_transparent, label=\"Class 0\"),\n",
        "        Patch(facecolor=colours[1], edgecolor=c_transparent, label=\"Class 1\"),\n",
        "        Patch(facecolor=colours[2], edgecolor=c_transparent, label=\"Class 2\"),\n",
        "        Line2D([0], [0], marker=\"o\", color=c_transparent, label=\"Train\",\n",
        "               markerfacecolor=\"black\", markersize=10),\n",
        "        Line2D([0], [0], marker=\"x\", color=c_transparent, label=\"Test\",\n",
        "               markerfacecolor=\"black\", markersize=10),\n",
        "    ]\n",
        "\n",
        "    ax.legend(handles=custom_lines, bbox_to_anchor=(1.0, 0.75))\n",
        "\n",
        "\n",
        "plot_points(x_train_final, y_train, x_test_final, y_test)\n"
      ],
      "execution_count": null,
      "outputs": [
        {
          "output_type": "display_data",
          "data": {
            "image/png": "[encoded data removed]",
            "text/plain": [
              "<Figure size 432x288 with 1 Axes>"
            ]
          },
          "metadata": {
            "tags": [],
            "needs_background": "light"
          }
        }
      ]
    },
    {
      "cell_type": "markdown",
      "metadata": {
        "id": "6xrkEWrTNp-c"
      },
      "source": [
        "# Classifier Model description\n",
        "\n",
        "### In the dataset we have three classses - Covid19, Viral Penumonia and Normal person. \n",
        "\n",
        "### Our approach is to divide the classfier in two different models. First model will classify between the classes 'Normal Person' and 'Covid19/Viral Pneumonia'. Second model will classify between the classes 'Covid' and 'Viral Penumonia' \n",
        "\n",
        "### First model here is denoted by Model-1 and second one by Model-2. "
      ]
    },
    {
      "cell_type": "markdown",
      "metadata": {
        "id": "bbj3YRynG3i0"
      },
      "source": [
        "# Required functions for classifier model-1"
      ]
    },
    {
      "cell_type": "code",
      "metadata": {
        "id": "JvoQMcWF8r4Z"
      },
      "source": [
        "def get_angles(x):\n",
        "\n",
        "    beta0 = 2 * np.arcsin(np.sqrt(x[1] ** 2) / np.sqrt(x[0] ** 2 + x[1] ** 2 + 1e-12))\n",
        "    beta1 = -2 * np.arcsin(np.sqrt(x[1] ** 2) / np.sqrt(x[2] ** 2 + x[1] ** 2 + 1e-12))\n",
        "    beta2 = 2 * np.arcsin(np.sqrt(x[2] ** 2 + x[1] ** 2)/np.sqrt(x[0] ** 2 + x[1] ** 2 + x[2] ** 2 ))\n",
        "\n",
        "    return np.array([beta2, -beta1 / 2, beta1 / 2, -beta0 / 2, beta0 / 2])\n",
        "\n",
        "    "
      ],
      "execution_count": null,
      "outputs": []
    },
    {
      "cell_type": "code",
      "metadata": {
        "id": "WmRvuHrfG96o"
      },
      "source": [
        "def statepreparation_1(a):\n",
        "\n",
        "        qml.Hadamard(wires=0)\n",
        "        qml.Hadamard(wires=1)\n",
        "        \n",
        "        qml.RZ(a[0], wires=0)\n",
        "        qml.RZ(a[1], wires=1)\n",
        "        qml.CNOT(wires=[0,1])\n",
        "        qml.RZ(a[0]*a[1], wires=1)\n",
        "        qml.CNOT(wires=[0,1])\n",
        "\n",
        "        qml.Hadamard(wires=0)\n",
        "        qml.Hadamard(wires=1)\n",
        "        \n",
        "        qml.RZ(a[1], wires=0)\n",
        "        qml.RZ(a[2], wires=1)\n",
        "        qml.CNOT(wires=[0,1])\n",
        "        qml.RZ(a[1]*a[2], wires=1)\n",
        "        qml.CNOT(wires=[0,1])\n",
        "        \n",
        "\n",
        "\n",
        "        qml.RY(a[0], wires=0)\n",
        "\n",
        "        qml.CNOT(wires=[0, 1])\n",
        "        qml.RY(a[1], wires=1)\n",
        "        qml.CNOT(wires=[0, 1])\n",
        "        qml.RY(a[2], wires=1)\n",
        "\n",
        "        for i in range(3,10):\n",
        "            qml.PauliX(wires=0)\n",
        "            qml.CNOT(wires=[0, 1])\n",
        "            qml.RY(a[i], wires=1)\n",
        "            qml.CNOT(wires=[0, 1])\n",
        "            qml.RY(a[i+1], wires=1)\n",
        "            qml.PauliX(wires=0)\n",
        "        "
      ],
      "execution_count": null,
      "outputs": []
    },
    {
      "cell_type": "code",
      "metadata": {
        "id": "L5MOaNj_HKa2"
      },
      "source": [
        "def layer_1(W):\n",
        "    qml.Rot(W[0, 0], W[0, 1], W[0, 2], wires=0)\n",
        "    qml.Rot(W[1, 0], W[1, 1], W[1, 2], wires=1)\n",
        "    # qml.Rot(W[2, 0], W[2, 1], W[2, 2], wires=2)\n",
        "    \n",
        "    qml.CNOT(wires=[0, 1])\n",
        "    # qml.CNOT(wires=[0, 2])\n",
        "    # qml.CNOT(wires=[1, 2])"
      ],
      "execution_count": null,
      "outputs": []
    },
    {
      "cell_type": "code",
      "metadata": {
        "id": "CjT9YycqHMvK"
      },
      "source": [
        "dev_1 = qml.device(\"default.qubit\", wires=2)\n",
        "@qml.qnode(dev_1)\n",
        "def circuit_1(weights, x=None):\n",
        "    # Feature mapping\n",
        "    # angle = get_angles(x)\n",
        "    statepreparation_1(x)\n",
        "    # variational classifier\n",
        "    for w in weights:\n",
        "        layer_1(w)\n",
        "    \n",
        "    return qml.expval(qml.PauliZ(1))"
      ],
      "execution_count": null,
      "outputs": []
    },
    {
      "cell_type": "code",
      "metadata": {
        "id": "pE4EPKw1HUH3"
      },
      "source": [
        "def classifier_training_1(params, x=None, y=None):\n",
        "    weights = params[0]\n",
        "    bias = params[1]\n",
        "\n",
        "    out_probs = circuit_1(weights, x=x) + bias\n",
        "    return (out_probs-y)**2\n"
      ],
      "execution_count": null,
      "outputs": []
    },
    {
      "cell_type": "code",
      "metadata": {
        "id": "26WdKy7PHxgQ"
      },
      "source": [
        "def classifier_prediction_1(params, x=None):\n",
        "    weights = params[0]\n",
        "    bias = params[1]\n",
        "\n",
        "    out_probs = circuit_1(weights, x=x) + bias\n",
        "\n",
        "    \n",
        "    if(out_probs>0):\n",
        "        return 1\n",
        "    else:\n",
        "        return -1"
      ],
      "execution_count": null,
      "outputs": []
    },
    {
      "cell_type": "code",
      "metadata": {
        "id": "x1jtRUU2H3rF"
      },
      "source": [
        "def circuit_output_test(params, x=None):\n",
        "    weights = params[0]\n",
        "    bias = params[1]\n",
        "\n",
        "    out_probs = circuit(weights, x=x) + bias\n",
        "\n",
        "    return out_probs\n"
      ],
      "execution_count": null,
      "outputs": []
    },
    {
      "cell_type": "code",
      "metadata": {
        "id": "h8zNvXOuH7F4"
      },
      "source": [
        " def cost_1(params, X, Y):\n",
        "\n",
        "    y_pred = np.array([classifier_training_1(params, x=X[i], y=Y[i]) for i in range(len(Y))])\n",
        "\n",
        "    cost = np.sum(y_pred) / len(Y)\n",
        "    return cost"
      ],
      "execution_count": null,
      "outputs": []
    },
    {
      "cell_type": "code",
      "metadata": {
        "id": "PnwvdZSDH-c8"
      },
      "source": [
        "def accuracy_1(params, x_train, y_train, iter):\n",
        "\n",
        "    y_pred_train = np.array([classifier_prediction_1(params, x=x) for x in x_train])\n",
        "    acc_train = np.sum(y_pred_train==y_train) / len(y_train)\n",
        "\n",
        "    print(\"Iter=> {}   train_cost=> {}   train_acc=> {} \".format(iter+1, cost_1(params, x_train, y_train), acc_train))\n"
      ],
      "execution_count": null,
      "outputs": []
    },
    {
      "cell_type": "markdown",
      "metadata": {
        "id": "xaKqVa18IHz6"
      },
      "source": [
        "# Required functions for classifier model-2"
      ]
    },
    {
      "cell_type": "code",
      "metadata": {
        "id": "tMNtf9DcIDmO"
      },
      "source": [
        "def statepreparation_2(a):\n",
        "\n",
        "        qml.Hadamard(wires=0)\n",
        "        qml.Hadamard(wires=1)\n",
        "        \n",
        "        qml.RZ(a[0], wires=0)\n",
        "        qml.RZ(a[1], wires=1)\n",
        "        qml.CNOT(wires=[0,1])\n",
        "        qml.RZ(a[0]*a[1], wires=1)\n",
        "        qml.CNOT(wires=[0,1])\n",
        "\n",
        "        qml.Hadamard(wires=0)\n",
        "        qml.Hadamard(wires=1)\n",
        "        \n",
        "        qml.RZ(a[1], wires=0)\n",
        "        qml.RZ(a[2], wires=1)\n",
        "        qml.CNOT(wires=[0,1])\n",
        "        qml.RZ(a[1]*a[2], wires=1)\n",
        "        qml.CNOT(wires=[0,1])\n",
        "        \n",
        "\n",
        "\n",
        "        qml.RY(a[0], wires=0)\n",
        "\n",
        "        qml.CNOT(wires=[0, 1])\n",
        "        qml.RY(a[1], wires=1)\n",
        "        qml.CNOT(wires=[0, 1])\n",
        "        qml.RY(a[2], wires=1)\n",
        "\n",
        "        for i in range(3,10):\n",
        "            qml.PauliX(wires=0)\n",
        "            qml.CNOT(wires=[0, 1])\n",
        "            qml.RY(a[i], wires=1)\n",
        "            qml.CNOT(wires=[0, 1])\n",
        "            qml.RY(a[i+1], wires=1)\n",
        "            qml.PauliX(wires=0)"
      ],
      "execution_count": null,
      "outputs": []
    },
    {
      "cell_type": "code",
      "metadata": {
        "id": "HAXZ-a1aIQqG"
      },
      "source": [
        "def layer_2(W):\n",
        "    qml.Rot(W[0, 0], W[0, 1], W[0, 2], wires=0)\n",
        "    qml.Rot(W[1, 0], W[1, 1], W[1, 2], wires=1)\n",
        "    # qml.Rot(W[2, 0], W[2, 1], W[2, 2], wires=2)\n",
        "    \n",
        "    qml.CNOT(wires=[0, 1])\n",
        "    # qml.CNOT(wires=[0, 2])\n",
        "    # qml.CNOT(wires=[1, 2])"
      ],
      "execution_count": null,
      "outputs": []
    },
    {
      "cell_type": "code",
      "metadata": {
        "id": "9EZJ7OJcIT62"
      },
      "source": [
        "dev_2 = qml.device(\"default.qubit\", wires=2)\n",
        "@qml.qnode(dev_2)\n",
        "def circuit_2(weights, x=None):\n",
        "    # Feature mapping\n",
        "    # angle = get_angles(x)\n",
        "    statepreparation_2(x)\n",
        "    \n",
        "    # variational classifier\n",
        "    for w in weights:\n",
        "        layer_2(w)\n",
        "    \n",
        "    return qml.expval(qml.PauliZ(1))"
      ],
      "execution_count": null,
      "outputs": []
    },
    {
      "cell_type": "code",
      "metadata": {
        "id": "iumVNlMWIcDg"
      },
      "source": [
        "def classifier_training_2(params, x=None, y=None):\n",
        "    weights = params[0]\n",
        "    bias = params[1]\n",
        "\n",
        "    out_probs = circuit_2(weights, x=x) + bias\n",
        "    return (out_probs-y)**2"
      ],
      "execution_count": null,
      "outputs": []
    },
    {
      "cell_type": "code",
      "metadata": {
        "id": "aC47T9L6Ih2V"
      },
      "source": [
        "def classifier_prediction_2(params, x=None):\n",
        "    weights = params[0]\n",
        "    bias = params[1]\n",
        "\n",
        "    out_probs = circuit_2(weights, x=x) + bias\n",
        "\n",
        "    \n",
        "    if(out_probs>0):\n",
        "        return 1\n",
        "    else:\n",
        "        return -1"
      ],
      "execution_count": null,
      "outputs": []
    },
    {
      "cell_type": "code",
      "metadata": {
        "id": "Lix_uPNYIlJT"
      },
      "source": [
        "def cost_2(params, X, Y):\n",
        "\n",
        "    y_pred = np.array([classifier_training_2(params, x=X[i], y=Y[i]) for i in range(len(Y))])\n",
        "\n",
        "    cost = np.sum(y_pred) / len(Y)\n",
        "    return cost\n"
      ],
      "execution_count": null,
      "outputs": []
    },
    {
      "cell_type": "code",
      "metadata": {
        "id": "yZAVHcVOIoXE"
      },
      "source": [
        "def accuracy_2(params, x_train, y_train, iter):\n",
        "\n",
        "    y_pred_train = np.array([classifier_prediction_2(params, x=x) for x in x_train])\n",
        "    acc_train = np.sum(y_pred_train==y_train) / len(y_train)\n",
        "\n",
        "    print(\"Iter=> {}   train_cost=> {}   train_acc=> {} \".format(iter+1, cost_2(params, x_train, y_train), acc_train))\n",
        "    "
      ],
      "execution_count": null,
      "outputs": []
    },
    {
      "cell_type": "markdown",
      "metadata": {
        "id": "3-jPuIBwItKu"
      },
      "source": [
        "# Model-1"
      ]
    },
    {
      "cell_type": "markdown",
      "metadata": {
        "id": "3BFJgYEPKMlX"
      },
      "source": [
        "## Data for model-1\n",
        "\n",
        "0->covid, 1->Normal, 2->Penumonia"
      ]
    },
    {
      "cell_type": "markdown",
      "metadata": {
        "id": "7QKas5BHO7MP"
      },
      "source": [
        "#### Here the labels are modified accordinglly for Model-1"
      ]
    },
    {
      "cell_type": "code",
      "metadata": {
        "id": "DC-vze_qIrlM"
      },
      "source": [
        "x_train_1 = np.copy(x_train_final)\n",
        "y_train_1 = []\n",
        "\n",
        "for i in range(len(y_train)):\n",
        "    if(y_train[i]==0 or y_train[i]==2):  ##Covid or pneumonia\n",
        "        y_train_1.append(-1)\n",
        "    elif(y_train[i]==1):  ##normal person\n",
        "        y_train_1.append(1)\n",
        "\n",
        "y_train_1 = np.array(y_train_1)"
      ],
      "execution_count": null,
      "outputs": []
    },
    {
      "cell_type": "markdown",
      "metadata": {
        "id": "xhZkWLIDLjiY"
      },
      "source": [
        "## Binary Classifier Model-1"
      ]
    },
    {
      "cell_type": "code",
      "metadata": {
        "colab": {
          "base_uri": "https://localhost:8080/"
        },
        "id": "YylpUnE0K7Y5",
        "outputId": "9bb2900e-13fb-4ce2-c883-58923c3d8a21"
      },
      "source": [
        "params_1 = (0.01 * np.random.randn(2, 2, 3), 0.0)\n",
        "params_1"
      ],
      "execution_count": null,
      "outputs": [
        {
          "output_type": "execute_result",
          "data": {
            "text/plain": [
              "(tensor([[[ 0.00612556, -0.00256142,  0.01053   ],\n",
              "          [ 0.00216839, -0.01007279, -0.00010648]],\n",
              " \n",
              "         [[-0.00067187, -0.00908299,  0.01408045],\n",
              "          [-0.00473003,  0.01786172,  0.0066232 ]]], requires_grad=True),\n",
              " 0.0)"
            ]
          },
          "metadata": {
            "tags": []
          },
          "execution_count": 27
        }
      ]
    },
    {
      "cell_type": "code",
      "metadata": {
        "colab": {
          "base_uri": "https://localhost:8080/"
        },
        "id": "nHkAyNQ3LTbW",
        "outputId": "f9ed478b-7fbd-489a-96ce-3b435b3d66b4"
      },
      "source": [
        "iters = 50\n",
        "optimizer_1 = qml.AdagradOptimizer(stepsize=0.5)\n",
        "\n",
        "for iter in range(iters):\n",
        "    params_1 = optimizer_1.step(lambda v: cost_1(v, x_train_1, y_train_1), params_1)\n",
        "\n",
        "    accuracy_1(params_1, x_train_1, y_train_1, iter)"
      ],
      "execution_count": null,
      "outputs": [
        {
          "output_type": "stream",
          "text": [
            "Iter=> 1   train_cost=> 0.9465406671995023   train_acc=> 0.632 \n",
            "Iter=> 2   train_cost=> 0.9361654379274255   train_acc=> 0.592 \n",
            "Iter=> 3   train_cost=> 0.9109960710143855   train_acc=> 0.688 \n",
            "Iter=> 4   train_cost=> 0.8723055581626453   train_acc=> 0.668 \n",
            "Iter=> 5   train_cost=> 0.8265608613027021   train_acc=> 0.716 \n",
            "Iter=> 6   train_cost=> 0.8071059298541345   train_acc=> 0.708 \n",
            "Iter=> 7   train_cost=> 0.7919998495788981   train_acc=> 0.716 \n",
            "Iter=> 8   train_cost=> 0.787285426404283   train_acc=> 0.72 \n",
            "Iter=> 9   train_cost=> 0.799059532754528   train_acc=> 0.696 \n",
            "Iter=> 10   train_cost=> 0.7965355634919986   train_acc=> 0.692 \n",
            "Iter=> 11   train_cost=> 0.7815100773128374   train_acc=> 0.7 \n",
            "Iter=> 12   train_cost=> 0.7762165565636774   train_acc=> 0.692 \n",
            "Iter=> 13   train_cost=> 0.7699521378398912   train_acc=> 0.704 \n",
            "Iter=> 14   train_cost=> 0.7682762621989432   train_acc=> 0.692 \n",
            "Iter=> 15   train_cost=> 0.7661915962405126   train_acc=> 0.708 \n",
            "Iter=> 16   train_cost=> 0.7657536225095983   train_acc=> 0.7 \n",
            "Iter=> 17   train_cost=> 0.7649731637998957   train_acc=> 0.712 \n",
            "Iter=> 18   train_cost=> 0.7654875756457623   train_acc=> 0.704 \n",
            "Iter=> 19   train_cost=> 0.7650331930113575   train_acc=> 0.704 \n",
            "Iter=> 20   train_cost=> 0.7659351218945554   train_acc=> 0.704 \n",
            "Iter=> 21   train_cost=> 0.764456490537743   train_acc=> 0.7 \n",
            "Iter=> 22   train_cost=> 0.7644943650227545   train_acc=> 0.704 \n",
            "Iter=> 23   train_cost=> 0.7627852398446182   train_acc=> 0.704 \n",
            "Iter=> 24   train_cost=> 0.7623071700834287   train_acc=> 0.708 \n",
            "Iter=> 25   train_cost=> 0.761137353750052   train_acc=> 0.708 \n",
            "Iter=> 26   train_cost=> 0.7606100782205395   train_acc=> 0.704 \n",
            "Iter=> 27   train_cost=> 0.7597980176831511   train_acc=> 0.7 \n",
            "Iter=> 28   train_cost=> 0.75927841367877   train_acc=> 0.708 \n",
            "Iter=> 29   train_cost=> 0.7586046861052742   train_acc=> 0.704 \n",
            "Iter=> 30   train_cost=> 0.758047928138165   train_acc=> 0.708 \n",
            "Iter=> 31   train_cost=> 0.7573773248986494   train_acc=> 0.704 \n",
            "Iter=> 32   train_cost=> 0.7567295548326093   train_acc=> 0.704 \n",
            "Iter=> 33   train_cost=> 0.755975192351081   train_acc=> 0.708 \n",
            "Iter=> 34   train_cost=> 0.7551947693202846   train_acc=> 0.704 \n",
            "Iter=> 35   train_cost=> 0.7543086386251524   train_acc=> 0.712 \n",
            "Iter=> 36   train_cost=> 0.7533902403378716   train_acc=> 0.704 \n",
            "Iter=> 37   train_cost=> 0.7523785906770777   train_acc=> 0.72 \n",
            "Iter=> 38   train_cost=> 0.7513763237751092   train_acc=> 0.704 \n",
            "Iter=> 39   train_cost=> 0.7503034593444322   train_acc=> 0.716 \n",
            "Iter=> 40   train_cost=> 0.7493125822709473   train_acc=> 0.7 \n",
            "Iter=> 41   train_cost=> 0.7482609692993902   train_acc=> 0.716 \n",
            "Iter=> 42   train_cost=> 0.747357547173499   train_acc=> 0.7 \n",
            "Iter=> 43   train_cost=> 0.7463925954549097   train_acc=> 0.712 \n",
            "Iter=> 44   train_cost=> 0.7456175385684236   train_acc=> 0.7 \n",
            "Iter=> 45   train_cost=> 0.7448025287096036   train_acc=> 0.712 \n",
            "Iter=> 46   train_cost=> 0.7441918408968373   train_acc=> 0.7 \n",
            "Iter=> 47   train_cost=> 0.7435727702333245   train_acc=> 0.712 \n",
            "Iter=> 48   train_cost=> 0.7431415172388152   train_acc=> 0.7 \n",
            "Iter=> 49   train_cost=> 0.7427063462912413   train_acc=> 0.712 \n",
            "Iter=> 50   train_cost=> 0.7424241633541755   train_acc=> 0.704 \n"
          ],
          "name": "stdout"
        }
      ]
    },
    {
      "cell_type": "markdown",
      "metadata": {
        "id": "EuG6oxpIR95T"
      },
      "source": [
        "# Model-2"
      ]
    },
    {
      "cell_type": "markdown",
      "metadata": {
        "id": "up0q4ehrR_9r"
      },
      "source": [
        "## Data for model-2\n",
        "0->covid, 1->Normal, 2->Penumonia"
      ]
    },
    {
      "cell_type": "markdown",
      "metadata": {
        "id": "kqB8sMaiPHKj"
      },
      "source": [
        "#### Here the labels are modified accordingly for Model-2"
      ]
    },
    {
      "cell_type": "code",
      "metadata": {
        "id": "MG-55rGiSGaI"
      },
      "source": [
        "x_train_2 = []\n",
        "y_train_2 = []\n",
        "\n",
        "for i in range(len(y_train)):\n",
        "    if(y_train[i]==0):   ## covid\n",
        "        x_train_2.append(x_train_final[i])\n",
        "        y_train_2.append(1)\n",
        "    elif(y_train[i]==2):  ## pneumonia\n",
        "        x_train_2.append(x_train_final[i])\n",
        "        y_train_2.append(-1)\n",
        "\n",
        "\n",
        "x_train_2 = np.array(x_train_2)\n",
        "y_train_2 = np.array(y_train_2)"
      ],
      "execution_count": null,
      "outputs": []
    },
    {
      "cell_type": "markdown",
      "metadata": {
        "id": "d-DYdwjIS4_T"
      },
      "source": [
        "## Binary Classifier Model-2"
      ]
    },
    {
      "cell_type": "code",
      "metadata": {
        "colab": {
          "base_uri": "https://localhost:8080/"
        },
        "id": "osCtRvneS3FM",
        "outputId": "d3047413-de7b-49e6-dcd5-7b78d27e157c"
      },
      "source": [
        "params_2 = (0.01 * np.random.randn(2, 2, 3), 0.0)\n",
        "params_2"
      ],
      "execution_count": null,
      "outputs": [
        {
          "output_type": "execute_result",
          "data": {
            "text/plain": [
              "(tensor([[[-1.34841542e-02,  1.49424421e-02,  5.76354377e-03],\n",
              "          [-3.02078872e-03, -2.15117350e-03, -6.71429076e-05]],\n",
              " \n",
              "         [[-1.59254516e-02, -2.14154692e-02, -6.90493502e-04],\n",
              "          [ 1.00902741e-02,  4.79889995e-03,  9.38148572e-03]]], requires_grad=True),\n",
              " 0.0)"
            ]
          },
          "metadata": {
            "tags": []
          },
          "execution_count": 30
        }
      ]
    },
    {
      "cell_type": "code",
      "metadata": {
        "colab": {
          "base_uri": "https://localhost:8080/"
        },
        "id": "uKoRU8xBTEiL",
        "outputId": "5c2f7b60-1cb3-4fbe-ced8-5ddac59a7494"
      },
      "source": [
        "iters = 50\n",
        "optimizer_2 = qml.AdagradOptimizer(stepsize=0.5)\n",
        "\n",
        "for iter in range(iters):\n",
        "    params_2 = optimizer_2.step(lambda v: cost_2(v, x_train_2, y_train_2), params_2)\n",
        "\n",
        "    accuracy_2(params_2, x_train_2, y_train_2, iter)"
      ],
      "execution_count": null,
      "outputs": [
        {
          "output_type": "stream",
          "text": [
            "Iter=> 1   train_cost=> 1.2554225181150627   train_acc=> 0.5111111111111111 \n",
            "Iter=> 2   train_cost=> 0.9439350950299421   train_acc=> 0.5944444444444444 \n",
            "Iter=> 3   train_cost=> 1.0105179591527453   train_acc=> 0.6277777777777778 \n",
            "Iter=> 4   train_cost=> 1.0076856369893235   train_acc=> 0.6222222222222222 \n",
            "Iter=> 5   train_cost=> 0.8715373168316767   train_acc=> 0.6722222222222223 \n",
            "Iter=> 6   train_cost=> 0.8220362427490671   train_acc=> 0.6833333333333333 \n",
            "Iter=> 7   train_cost=> 0.7984506078500819   train_acc=> 0.6833333333333333 \n",
            "Iter=> 8   train_cost=> 0.779958754571459   train_acc=> 0.7222222222222222 \n",
            "Iter=> 9   train_cost=> 0.7670961941947209   train_acc=> 0.7333333333333333 \n",
            "Iter=> 10   train_cost=> 0.7556347836796031   train_acc=> 0.7 \n",
            "Iter=> 11   train_cost=> 0.7477561795166506   train_acc=> 0.7333333333333333 \n",
            "Iter=> 12   train_cost=> 0.7409869933343458   train_acc=> 0.7333333333333333 \n",
            "Iter=> 13   train_cost=> 0.735491109980575   train_acc=> 0.7277777777777777 \n",
            "Iter=> 14   train_cost=> 0.7307460947699391   train_acc=> 0.7388888888888889 \n",
            "Iter=> 15   train_cost=> 0.7266383271651361   train_acc=> 0.7333333333333333 \n",
            "Iter=> 16   train_cost=> 0.7230493237165069   train_acc=> 0.7555555555555555 \n",
            "Iter=> 17   train_cost=> 0.7199192451190262   train_acc=> 0.7388888888888889 \n",
            "Iter=> 18   train_cost=> 0.7172276302058477   train_acc=> 0.7444444444444445 \n",
            "Iter=> 19   train_cost=> 0.7149499822728362   train_acc=> 0.7388888888888889 \n",
            "Iter=> 20   train_cost=> 0.7130743328131334   train_acc=> 0.7444444444444445 \n",
            "Iter=> 21   train_cost=> 0.711567562466773   train_acc=> 0.7388888888888889 \n",
            "Iter=> 22   train_cost=> 0.7103954618936014   train_acc=> 0.75 \n",
            "Iter=> 23   train_cost=> 0.709507582757549   train_acc=> 0.7444444444444445 \n",
            "Iter=> 24   train_cost=> 0.7088559640743497   train_acc=> 0.75 \n",
            "Iter=> 25   train_cost=> 0.7083902114211809   train_acc=> 0.7444444444444445 \n",
            "Iter=> 26   train_cost=> 0.7080681661710423   train_acc=> 0.7444444444444445 \n",
            "Iter=> 27   train_cost=> 0.7078553053463492   train_acc=> 0.7444444444444445 \n",
            "Iter=> 28   train_cost=> 0.7077238962932172   train_acc=> 0.7388888888888889 \n",
            "Iter=> 29   train_cost=> 0.7076606100772712   train_acc=> 0.7388888888888889 \n",
            "Iter=> 30   train_cost=> 0.7076481406453243   train_acc=> 0.7444444444444445 \n",
            "Iter=> 31   train_cost=> 0.7076975279772018   train_acc=> 0.7444444444444445 \n",
            "Iter=> 32   train_cost=> 0.7077846956687565   train_acc=> 0.7388888888888889 \n",
            "Iter=> 33   train_cost=> 0.7079559276576795   train_acc=> 0.75 \n",
            "Iter=> 34   train_cost=> 0.7081307457323797   train_acc=> 0.7388888888888889 \n",
            "Iter=> 35   train_cost=> 0.7084190440936763   train_acc=> 0.7444444444444445 \n",
            "Iter=> 36   train_cost=> 0.7085871749723753   train_acc=> 0.7388888888888889 \n",
            "Iter=> 37   train_cost=> 0.7088820044604153   train_acc=> 0.7444444444444445 \n",
            "Iter=> 38   train_cost=> 0.7088693994109034   train_acc=> 0.7388888888888889 \n",
            "Iter=> 39   train_cost=> 0.709013976389305   train_acc=> 0.7444444444444445 \n",
            "Iter=> 40   train_cost=> 0.7087878773067924   train_acc=> 0.7388888888888889 \n",
            "Iter=> 41   train_cost=> 0.7087613147172737   train_acc=> 0.7444444444444445 \n",
            "Iter=> 42   train_cost=> 0.7084615361724408   train_acc=> 0.7388888888888889 \n",
            "Iter=> 43   train_cost=> 0.708351672014987   train_acc=> 0.7444444444444445 \n",
            "Iter=> 44   train_cost=> 0.7080952570607393   train_acc=> 0.7388888888888889 \n",
            "Iter=> 45   train_cost=> 0.7079780575774943   train_acc=> 0.7388888888888889 \n",
            "Iter=> 46   train_cost=> 0.7077976310434562   train_acc=> 0.7388888888888889 \n",
            "Iter=> 47   train_cost=> 0.7077043758786733   train_acc=> 0.7388888888888889 \n",
            "Iter=> 48   train_cost=> 0.7075888804046014   train_acc=> 0.7388888888888889 \n",
            "Iter=> 49   train_cost=> 0.7075235858586326   train_acc=> 0.7388888888888889 \n",
            "Iter=> 50   train_cost=> 0.7074528926118826   train_acc=> 0.7388888888888889 \n"
          ],
          "name": "stdout"
        }
      ]
    },
    {
      "cell_type": "markdown",
      "metadata": {
        "id": "wKuT5KBeTiQk"
      },
      "source": [
        "# Prediction"
      ]
    },
    {
      "cell_type": "markdown",
      "metadata": {
        "id": "gqLx2cuKPcVW"
      },
      "source": [
        "### While Predicting, we first give input to the Model-1. If it predicts as Normal person, then it is the final prediction assigned to the input. If not, then we give the same input to Model-2 and it finally predicts whether the chest x-ray is Covid10 patient or Viral Pneumonia patient. "
      ]
    },
    {
      "cell_type": "code",
      "metadata": {
        "id": "7Y1yxaM9Tao4"
      },
      "source": [
        "y_pred = []\n",
        "\n",
        "for i in range(len(x_test_final)):\n",
        "    tmp = classifier_prediction_1(params_1, x=x_test_final[i])\n",
        "    if (tmp == 1):  ## Normal person\n",
        "        y_pred.append(1)\n",
        "    else:   ## Covid or Pneumonia\n",
        "        tmp = classifier_prediction_2(params_2, x=x_test_final[i])\n",
        "        if(tmp == 1):  ## covid\n",
        "            y_pred.append(0)\n",
        "        elif(tmp == -1): ## Pneumonia\n",
        "            y_pred.append(2)\n",
        "\n",
        "y_pred = np.array(y_pred)"
      ],
      "execution_count": null,
      "outputs": []
    },
    {
      "cell_type": "code",
      "metadata": {
        "colab": {
          "base_uri": "https://localhost:8080/"
        },
        "id": "r1trY_8EUuaM",
        "outputId": "84bcbe28-e0fc-4d49-b303-cd5414489321"
      },
      "source": [
        "print(\"Final_Test_Accuracy => \", np.sum(y_pred==y_test)/len(y_test))"
      ],
      "execution_count": null,
      "outputs": [
        {
          "output_type": "stream",
          "text": [
            "Final_Test_Accuracy =>  0.5230769230769231\n"
          ],
          "name": "stdout"
        }
      ]
    },
    {
      "cell_type": "markdown",
      "metadata": {
        "id": "tQzw0oEbQIAk"
      },
      "source": [
        "### We are hopeful to in increment in this accuracy when it will be trained on real computer with larger dataset. "
      ]
    }
  ]
}