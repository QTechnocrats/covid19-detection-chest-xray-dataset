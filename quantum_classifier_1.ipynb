{
  "nbformat": 4,
  "nbformat_minor": 0,
  "metadata": {
    "colab": {
      "name": "quantum_classifier_1.ipynb",
      "provenance": [],
      "toc_visible": true
    },
    "kernelspec": {
      "display_name": "Python 3",
      "language": "python",
      "name": "python3"
    },
    "language_info": {
      "codemirror_mode": {
        "name": "ipython",
        "version": 3
      },
      "file_extension": ".py",
      "mimetype": "text/x-python",
      "name": "python",
      "nbconvert_exporter": "python",
      "pygments_lexer": "ipython3",
      "version": "3.7.6"
    }
  },
  "cells": [
    {
      "cell_type": "markdown",
      "metadata": {
        "id": "zzBv5XkTGur2"
      },
      "source": [
        "# Installations and Imports"
      ]
    },
    {
      "cell_type": "code",
      "metadata": {
        "id": "9-xShbR18N_G"
      },
      "source": [
        "!pip install pennylane --upgrade\n",
        "\n",
        "from IPython.display import clear_output\n",
        "clear_output(wait=False)"
      ],
      "execution_count": 1,
      "outputs": []
    },
    {
      "cell_type": "code",
      "metadata": {
        "id": "lp2cLbPS8RhG"
      },
      "source": [
        "import pennylane as qml\n",
        "from pennylane import numpy as np\n",
        "from pennylane.templates import RandomLayers\n",
        "\n",
        "\n",
        "#import tensorflow as tf\n",
        "#from tensorflow import keras\n",
        "\n",
        "import pandas as pd\n",
        "import matplotlib.pyplot as plt\n",
        "import seaborn as sns\n",
        "\n",
        "sns.set_theme()"
      ],
      "execution_count": 32,
      "outputs": []
    },
    {
      "cell_type": "markdown",
      "metadata": {
        "id": "w38G4jmvGyzk"
      },
      "source": [
        "# Importing data files"
      ]
    },
    {
      "cell_type": "markdown",
      "metadata": {
        "id": "LHAjYB6-Mhy9"
      },
      "source": [
        "### npy data files created by the quanvolutional notebook has been imported here. "
      ]
    },
    {
      "cell_type": "code",
      "metadata": {
        "id": "gOJtRzhk7pXk"
      },
      "source": [
        "x_train_final = np.load(\"x_train_final.npy\")\n",
        "y_train = np.load(\"y_train.npy\")\n",
        "\n",
        "x_test_final = np.load(\"x_test_final.npy\")\n",
        "y_test = np.load(\"y_test.npy\")"
      ],
      "execution_count": 3,
      "outputs": []
    },
    {
      "cell_type": "code",
      "metadata": {
        "colab": {
          "base_uri": "https://localhost:8080/"
        },
        "id": "3z0DcNmj8jWB",
        "outputId": "ac50602a-fb9c-401f-f08e-1e6e5ead1d85"
      },
      "source": [
        "x_train_final.shape, y_train.shape, x_test_final.shape, y_test.shape"
      ],
      "execution_count": 4,
      "outputs": [
        {
          "output_type": "execute_result",
          "data": {
            "text/plain": [
              "((250, 256), (250,), (65, 256), (65,))"
            ]
          },
          "metadata": {
            "tags": []
          },
          "execution_count": 4
        }
      ]
    },
    {
      "cell_type": "markdown",
      "metadata": {
        "id": "oy37edV6Mu-G"
      },
      "source": [
        "#### train and test data has been concatenated for further size reduction as 256 features are hard to be encoded on a quantum circuit. "
      ]
    },
    {
      "cell_type": "code",
      "metadata": {
        "colab": {
          "base_uri": "https://localhost:8080/"
        },
        "id": "Ebzr82i2LoGO",
        "outputId": "001c51ab-5872-40ee-f8a5-3ecf1fe39ebf"
      },
      "source": [
        "X = np.concatenate((x_train_final, x_test_final))\n",
        "Y = np.concatenate((y_train, y_test))\n",
        "print(X.shape)"
      ],
      "execution_count": 5,
      "outputs": [
        {
          "output_type": "stream",
          "text": [
            "(315, 256)\n"
          ],
          "name": "stdout"
        }
      ]
    },
    {
      "cell_type": "markdown",
      "metadata": {
        "id": "T3C_OXBWNF90"
      },
      "source": [
        "#### from 256 features, 11 feautes has been selected that will be used further.  "
      ]
    },
    {
      "cell_type": "code",
      "metadata": {
        "colab": {
          "base_uri": "https://localhost:8080/"
        },
        "id": "EbIaiDf2LoGP",
        "outputId": "ed02fbfa-5b91-4223-94a4-cf1cf32b4f1c"
      },
      "source": [
        "from sklearn.svm import LinearSVC\n",
        "from sklearn.feature_selection import SelectFromModel\n",
        "lsvc = LinearSVC(C=0.01, penalty=\"l1\", dual=False).fit(X, Y)\n",
        "model = SelectFromModel(lsvc, prefit=True)\n",
        "X = model.transform(X)\n",
        "print(X.shape)\n",
        "\n"
      ],
      "execution_count": 6,
      "outputs": [
        {
          "output_type": "stream",
          "text": [
            "(315, 11)\n"
          ],
          "name": "stdout"
        }
      ]
    },
    {
      "cell_type": "markdown",
      "metadata": {
        "id": "OV0PX3SMNSif"
      },
      "source": [
        "#### Train and test data has been seperated again. "
      ]
    },
    {
      "cell_type": "code",
      "metadata": {
        "id": "hU8stCyPLoGQ"
      },
      "source": [
        "x_train_final = (X[:250])\n",
        "x_test_final = (X[250:])"
      ],
      "execution_count": 7,
      "outputs": []
    },
    {
      "cell_type": "code",
      "metadata": {
        "colab": {
          "base_uri": "https://localhost:8080/",
          "height": 284
        },
        "id": "VyDjP3oALoGS",
        "outputId": "d0fbf1c8-5ef4-4484-f268-107343a848f9"
      },
      "source": [
        "from matplotlib.lines import Line2D\n",
        "from matplotlib.patches import Patch\n",
        "\n",
        "colours = [\"#ec6f86\", \"#4573e7\", \"#ad61ed\"]\n",
        "\n",
        "\n",
        "def plot_points(x_train, y_train, x_test, y_test):\n",
        "    c_train = []\n",
        "    c_test = []\n",
        "\n",
        "    for y in y_train:\n",
        "        c_train.append(colours[y])\n",
        "\n",
        "    for y in y_test:\n",
        "        c_test.append(colours[y])\n",
        "\n",
        "    plt.scatter(x_train[:, 0], x_train[:, 1], c=c_train)\n",
        "    plt.scatter(x_test[:, 0], x_test[:, 1], c=c_test, marker=\"x\")\n",
        "\n",
        "    plt.xlabel(\"Feature 1\", fontsize=16)\n",
        "    plt.ylabel(\"Feature 2\", fontsize=16)\n",
        "\n",
        "    ax = plt.gca()\n",
        "    ax.set_aspect(1)\n",
        "\n",
        "    c_transparent = \"#00000000\"\n",
        "\n",
        "    custom_lines = [\n",
        "        Patch(facecolor=colours[0], edgecolor=c_transparent, label=\"Class 0\"),\n",
        "        Patch(facecolor=colours[1], edgecolor=c_transparent, label=\"Class 1\"),\n",
        "        Patch(facecolor=colours[2], edgecolor=c_transparent, label=\"Class 2\"),\n",
        "        Line2D([0], [0], marker=\"o\", color=c_transparent, label=\"Train\",\n",
        "               markerfacecolor=\"black\", markersize=10),\n",
        "        Line2D([0], [0], marker=\"x\", color=c_transparent, label=\"Test\",\n",
        "               markerfacecolor=\"black\", markersize=10),\n",
        "    ]\n",
        "\n",
        "    ax.legend(handles=custom_lines, bbox_to_anchor=(1.0, 0.75))\n",
        "\n",
        "\n",
        "plot_points(x_train_final, y_train, x_test_final, y_test)\n"
      ],
      "execution_count": 8,
      "outputs": [
        {
          "output_type": "display_data",
          "data": {
            "image/png": "[encoded data removed]",
            "text/plain": [
              "<Figure size 432x288 with 1 Axes>"
            ]
          },
          "metadata": {
            "tags": [],
            "needs_background": "light"
          }
        }
      ]
    },
    {
      "cell_type": "markdown",
      "metadata": {
        "id": "6xrkEWrTNp-c"
      },
      "source": [
        "# Classifier Model description\n",
        "\n",
        "### In the dataset we have three classses - Covid19, Viral Penumonia and Normal person. \n",
        "\n",
        "### Our approach is to divide the classfier in two different models. First model will classify between the classes 'Normal Person' and 'Covid19/Viral Pneumonia'. Second model will classify between the classes 'Covid' and 'Viral Penumonia' \n",
        "\n",
        "### First model here is denoted by Model-1 and second one by Model-2. "
      ]
    },
    {
      "cell_type": "markdown",
      "metadata": {
        "id": "bbj3YRynG3i0"
      },
      "source": [
        "# Required functions for classifier model-1"
      ]
    },
    {
      "cell_type": "code",
      "metadata": {
        "id": "JvoQMcWF8r4Z"
      },
      "source": [
        "def get_angles(x):\n",
        "\n",
        "    beta0 = 2 * np.arcsin(np.sqrt(x[1] ** 2) / np.sqrt(x[0] ** 2 + x[1] ** 2 + 1e-12))\n",
        "    beta1 = -2 * np.arcsin(np.sqrt(x[1] ** 2) / np.sqrt(x[2] ** 2 + x[1] ** 2 + 1e-12))\n",
        "    beta2 = 2 * np.arcsin(np.sqrt(x[2] ** 2 + x[1] ** 2)/np.sqrt(x[0] ** 2 + x[1] ** 2 + x[2] ** 2 ))\n",
        "\n",
        "    return np.array([beta2, -beta1 / 2, beta1 / 2, -beta0 / 2, beta0 / 2])\n",
        "\n",
        "    "
      ],
      "execution_count": 9,
      "outputs": []
    },
    {
      "cell_type": "code",
      "metadata": {
        "id": "WmRvuHrfG96o"
      },
      "source": [
        "def statepreparation_1(a):\n",
        "\n",
        "        qml.Hadamard(wires=0)\n",
        "        qml.Hadamard(wires=1)\n",
        "        \n",
        "        qml.RZ(a[0], wires=0)\n",
        "        qml.RZ(a[1], wires=1)\n",
        "        qml.CNOT(wires=[0,1])\n",
        "        qml.RZ(a[0]*a[1], wires=1)\n",
        "        qml.CNOT(wires=[0,1])\n",
        "\n",
        "        qml.Hadamard(wires=0)\n",
        "        qml.Hadamard(wires=1)\n",
        "        \n",
        "        qml.RZ(a[1], wires=0)\n",
        "        qml.RZ(a[2], wires=1)\n",
        "        qml.CNOT(wires=[0,1])\n",
        "        qml.RZ(a[1]*a[2], wires=1)\n",
        "        qml.CNOT(wires=[0,1])\n",
        "        \n",
        "\n",
        "\n",
        "        qml.RY(a[0], wires=0)\n",
        "\n",
        "        qml.CNOT(wires=[0, 1])\n",
        "        qml.RY(a[1], wires=1)\n",
        "        qml.CNOT(wires=[0, 1])\n",
        "        qml.RY(a[2], wires=1)\n",
        "\n",
        "        for i in range(3,10):\n",
        "            qml.PauliX(wires=0)\n",
        "            qml.CNOT(wires=[0, 1])\n",
        "            qml.RY(a[i], wires=1)\n",
        "            qml.CNOT(wires=[0, 1])\n",
        "            qml.RY(a[i+1], wires=1)\n",
        "            qml.PauliX(wires=0)\n",
        "        "
      ],
      "execution_count": 10,
      "outputs": []
    },
    {
      "cell_type": "code",
      "metadata": {
        "id": "L5MOaNj_HKa2"
      },
      "source": [
        "def layer_1(W):\n",
        "    qml.Rot(W[0, 0], W[0, 1], W[0, 2], wires=0)\n",
        "    qml.Rot(W[1, 0], W[1, 1], W[1, 2], wires=1)\n",
        "    # qml.Rot(W[2, 0], W[2, 1], W[2, 2], wires=2)\n",
        "    \n",
        "    qml.CNOT(wires=[0, 1])\n",
        "    # qml.CNOT(wires=[0, 2])\n",
        "    # qml.CNOT(wires=[1, 2])"
      ],
      "execution_count": 11,
      "outputs": []
    },
    {
      "cell_type": "code",
      "metadata": {
        "id": "CjT9YycqHMvK"
      },
      "source": [
        "dev_1 = qml.device(\"default.qubit\", wires=2)\n",
        "@qml.qnode(dev_1)\n",
        "def circuit_1(weights, x=None):\n",
        "    # Feature mapping\n",
        "    # angle = get_angles(x)\n",
        "    statepreparation_1(x)\n",
        "    # variational classifier\n",
        "    for w in weights:\n",
        "        layer_1(w)\n",
        "    \n",
        "    return qml.expval(qml.PauliZ(1))"
      ],
      "execution_count": 12,
      "outputs": []
    },
    {
      "cell_type": "code",
      "metadata": {
        "id": "pE4EPKw1HUH3"
      },
      "source": [
        "def classifier_training_1(params, x=None, y=None):\n",
        "    weights = params[0]\n",
        "    bias = params[1]\n",
        "\n",
        "    out_probs = circuit_1(weights, x=x) + bias\n",
        "    return (out_probs-y)**2\n"
      ],
      "execution_count": 13,
      "outputs": []
    },
    {
      "cell_type": "code",
      "metadata": {
        "id": "26WdKy7PHxgQ"
      },
      "source": [
        "def classifier_prediction_1(params, x=None):\n",
        "    weights = params[0]\n",
        "    bias = params[1]\n",
        "\n",
        "    out_probs = circuit_1(weights, x=x) + bias\n",
        "\n",
        "    \n",
        "    if(out_probs>0):\n",
        "        return 1\n",
        "    else:\n",
        "        return -1"
      ],
      "execution_count": 14,
      "outputs": []
    },
    {
      "cell_type": "code",
      "metadata": {
        "id": "x1jtRUU2H3rF"
      },
      "source": [
        "def circuit_output_test(params, x=None):\n",
        "    weights = params[0]\n",
        "    bias = params[1]\n",
        "\n",
        "    out_probs = circuit(weights, x=x) + bias\n",
        "\n",
        "    return out_probs\n"
      ],
      "execution_count": 15,
      "outputs": []
    },
    {
      "cell_type": "code",
      "metadata": {
        "id": "h8zNvXOuH7F4"
      },
      "source": [
        " def cost_1(params, X, Y):\n",
        "\n",
        "    y_pred = np.array([classifier_training_1(params, x=X[i], y=Y[i]) for i in range(len(Y))])\n",
        "\n",
        "    cost = np.sum(y_pred) / len(Y)\n",
        "    return cost"
      ],
      "execution_count": 16,
      "outputs": []
    },
    {
      "cell_type": "code",
      "metadata": {
        "id": "PnwvdZSDH-c8"
      },
      "source": [
        "def accuracy_1(params, x_train, y_train, iter):\n",
        "\n",
        "    y_pred_train = np.array([classifier_prediction_1(params, x=x) for x in x_train])\n",
        "    acc_train = np.sum(y_pred_train==y_train) / len(y_train)\n",
        "\n",
        "    print(\"Iter=> {}   train_cost=> {}   train_acc=> {} \".format(iter+1, cost_1(params, x_train, y_train), acc_train))\n",
        "\n",
        "    return acc_train\n"
      ],
      "execution_count": 27,
      "outputs": []
    },
    {
      "cell_type": "markdown",
      "metadata": {
        "id": "xaKqVa18IHz6"
      },
      "source": [
        "# Required functions for classifier model-2"
      ]
    },
    {
      "cell_type": "code",
      "metadata": {
        "id": "tMNtf9DcIDmO"
      },
      "source": [
        "def statepreparation_2(a):\n",
        "\n",
        "        qml.Hadamard(wires=0)\n",
        "        qml.Hadamard(wires=1)\n",
        "        \n",
        "        qml.RZ(a[0], wires=0)\n",
        "        qml.RZ(a[1], wires=1)\n",
        "        qml.CNOT(wires=[0,1])\n",
        "        qml.RZ(a[0]*a[1], wires=1)\n",
        "        qml.CNOT(wires=[0,1])\n",
        "\n",
        "        qml.Hadamard(wires=0)\n",
        "        qml.Hadamard(wires=1)\n",
        "        \n",
        "        qml.RZ(a[1], wires=0)\n",
        "        qml.RZ(a[2], wires=1)\n",
        "        qml.CNOT(wires=[0,1])\n",
        "        qml.RZ(a[1]*a[2], wires=1)\n",
        "        qml.CNOT(wires=[0,1])\n",
        "        \n",
        "\n",
        "\n",
        "        qml.RY(a[0], wires=0)\n",
        "\n",
        "        qml.CNOT(wires=[0, 1])\n",
        "        qml.RY(a[1], wires=1)\n",
        "        qml.CNOT(wires=[0, 1])\n",
        "        qml.RY(a[2], wires=1)\n",
        "\n",
        "        for i in range(3,10):\n",
        "            qml.PauliX(wires=0)\n",
        "            qml.CNOT(wires=[0, 1])\n",
        "            qml.RY(a[i], wires=1)\n",
        "            qml.CNOT(wires=[0, 1])\n",
        "            qml.RY(a[i+1], wires=1)\n",
        "            qml.PauliX(wires=0)"
      ],
      "execution_count": 18,
      "outputs": []
    },
    {
      "cell_type": "code",
      "metadata": {
        "id": "HAXZ-a1aIQqG"
      },
      "source": [
        "def layer_2(W):\n",
        "    qml.Rot(W[0, 0], W[0, 1], W[0, 2], wires=0)\n",
        "    qml.Rot(W[1, 0], W[1, 1], W[1, 2], wires=1)\n",
        "    # qml.Rot(W[2, 0], W[2, 1], W[2, 2], wires=2)\n",
        "    \n",
        "    qml.CNOT(wires=[0, 1])\n",
        "    # qml.CNOT(wires=[0, 2])\n",
        "    # qml.CNOT(wires=[1, 2])"
      ],
      "execution_count": 19,
      "outputs": []
    },
    {
      "cell_type": "code",
      "metadata": {
        "id": "9EZJ7OJcIT62"
      },
      "source": [
        "dev_2 = qml.device(\"default.qubit\", wires=2)\n",
        "@qml.qnode(dev_2)\n",
        "def circuit_2(weights, x=None):\n",
        "    # Feature mapping\n",
        "    # angle = get_angles(x)\n",
        "    statepreparation_2(x)\n",
        "    \n",
        "    # variational classifier\n",
        "    for w in weights:\n",
        "        layer_2(w)\n",
        "    \n",
        "    return qml.expval(qml.PauliZ(1))"
      ],
      "execution_count": 20,
      "outputs": []
    },
    {
      "cell_type": "code",
      "metadata": {
        "id": "iumVNlMWIcDg"
      },
      "source": [
        "def classifier_training_2(params, x=None, y=None):\n",
        "    weights = params[0]\n",
        "    bias = params[1]\n",
        "\n",
        "    out_probs = circuit_2(weights, x=x) + bias\n",
        "    return (out_probs-y)**2"
      ],
      "execution_count": 21,
      "outputs": []
    },
    {
      "cell_type": "code",
      "metadata": {
        "id": "aC47T9L6Ih2V"
      },
      "source": [
        "def classifier_prediction_2(params, x=None):\n",
        "    weights = params[0]\n",
        "    bias = params[1]\n",
        "\n",
        "    out_probs = circuit_2(weights, x=x) + bias\n",
        "\n",
        "    \n",
        "    if(out_probs>0):\n",
        "        return 1\n",
        "    else:\n",
        "        return -1"
      ],
      "execution_count": 22,
      "outputs": []
    },
    {
      "cell_type": "code",
      "metadata": {
        "id": "Lix_uPNYIlJT"
      },
      "source": [
        "def cost_2(params, X, Y):\n",
        "\n",
        "    y_pred = np.array([classifier_training_2(params, x=X[i], y=Y[i]) for i in range(len(Y))])\n",
        "\n",
        "    cost = np.sum(y_pred) / len(Y)\n",
        "    return cost\n"
      ],
      "execution_count": 23,
      "outputs": []
    },
    {
      "cell_type": "code",
      "metadata": {
        "id": "yZAVHcVOIoXE"
      },
      "source": [
        "def accuracy_2(params, x_train, y_train, iter):\n",
        "\n",
        "    y_pred_train = np.array([classifier_prediction_2(params, x=x) for x in x_train])\n",
        "    acc_train = np.sum(y_pred_train==y_train) / len(y_train)\n",
        "\n",
        "    print(\"Iter=> {}   train_cost=> {}   train_acc=> {} \".format(iter+1, cost_2(params, x_train, y_train), acc_train))\n",
        "\n",
        "    return acc_train\n",
        "    "
      ],
      "execution_count": 28,
      "outputs": []
    },
    {
      "cell_type": "markdown",
      "metadata": {
        "id": "3-jPuIBwItKu"
      },
      "source": [
        "# Model-1"
      ]
    },
    {
      "cell_type": "markdown",
      "metadata": {
        "id": "3BFJgYEPKMlX"
      },
      "source": [
        "## Data for model-1\n",
        "\n",
        "0->covid, 1->Normal, 2->Penumonia"
      ]
    },
    {
      "cell_type": "markdown",
      "metadata": {
        "id": "7QKas5BHO7MP"
      },
      "source": [
        "#### Here the labels are modified accordinglly for Model-1"
      ]
    },
    {
      "cell_type": "code",
      "metadata": {
        "id": "DC-vze_qIrlM"
      },
      "source": [
        "x_train_1 = np.copy(x_train_final)\n",
        "y_train_1 = []\n",
        "\n",
        "for i in range(len(y_train)):\n",
        "    if(y_train[i]==0 or y_train[i]==2):  ##Covid or pneumonia\n",
        "        y_train_1.append(-1)\n",
        "    elif(y_train[i]==1):  ##normal person\n",
        "        y_train_1.append(1)\n",
        "\n",
        "y_train_1 = np.array(y_train_1)"
      ],
      "execution_count": 25,
      "outputs": []
    },
    {
      "cell_type": "markdown",
      "metadata": {
        "id": "xhZkWLIDLjiY"
      },
      "source": [
        "## Binary Classifier Model-1"
      ]
    },
    {
      "cell_type": "code",
      "metadata": {
        "colab": {
          "base_uri": "https://localhost:8080/"
        },
        "id": "YylpUnE0K7Y5",
        "outputId": "537a529a-48ea-4cd0-98b2-0793c8db202e"
      },
      "source": [
        "params_1 = (0.01 * np.random.randn(2, 2, 3), 0.0)\n",
        "params_1"
      ],
      "execution_count": 30,
      "outputs": [
        {
          "output_type": "execute_result",
          "data": {
            "text/plain": [
              "(tensor([[[ 0.00788197,  0.00862789, -0.01362923],\n",
              "          [ 0.03096347, -0.00686296,  0.00633331]],\n",
              " \n",
              "         [[-0.01199092, -0.01398299,  0.00185472],\n",
              "          [ 0.00721716,  0.00810696,  0.00811893]]], requires_grad=True), 0.0)"
            ]
          },
          "metadata": {
            "tags": []
          },
          "execution_count": 30
        }
      ]
    },
    {
      "cell_type": "code",
      "metadata": {
        "colab": {
          "base_uri": "https://localhost:8080/"
        },
        "id": "nHkAyNQ3LTbW",
        "outputId": "2a905a7d-ba4c-43db-f51a-52a52db82f93"
      },
      "source": [
        "iters = 20\n",
        "optimizer_1 = qml.AdagradOptimizer(stepsize=0.5)\n",
        "\n",
        "cost_list_1 = []\n",
        "train_acc_list_1 = []\n",
        "\n",
        "for iter in range(iters):\n",
        "    params_1 = optimizer_1.step(lambda v: cost_1(v, x_train_1, y_train_1), params_1)\n",
        "\n",
        "    cost_list_1.append(cost_1(params_1, x_train_1, y_train_1))\n",
        "    train_acc_list_1.append(accuracy_1(params_1, x_train_1, y_train_1, iter))"
      ],
      "execution_count": 31,
      "outputs": [
        {
          "output_type": "stream",
          "text": [
            "Iter=> 1   train_cost=> 0.9430680970436425   train_acc=> 0.636 \n",
            "Iter=> 2   train_cost=> 0.9434245396114554   train_acc=> 0.588 \n",
            "Iter=> 3   train_cost=> 0.9049820852738587   train_acc=> 0.688 \n",
            "Iter=> 4   train_cost=> 0.8701317914427136   train_acc=> 0.664 \n",
            "Iter=> 5   train_cost=> 0.8235834174948404   train_acc=> 0.72 \n",
            "Iter=> 6   train_cost=> 0.8041318123394667   train_acc=> 0.712 \n",
            "Iter=> 7   train_cost=> 0.7895082700859484   train_acc=> 0.712 \n",
            "Iter=> 8   train_cost=> 0.7856300343953608   train_acc=> 0.716 \n",
            "Iter=> 9   train_cost=> 0.7992519245856506   train_acc=> 0.696 \n",
            "Iter=> 10   train_cost=> 0.794766268933636   train_acc=> 0.692 \n",
            "Iter=> 11   train_cost=> 0.7820467651355429   train_acc=> 0.7 \n",
            "Iter=> 12   train_cost=> 0.7768421984495323   train_acc=> 0.692 \n",
            "Iter=> 13   train_cost=> 0.7706342494969206   train_acc=> 0.704 \n",
            "Iter=> 14   train_cost=> 0.769017766266119   train_acc=> 0.692 \n",
            "Iter=> 15   train_cost=> 0.7669294220914374   train_acc=> 0.708 \n",
            "Iter=> 16   train_cost=> 0.7667130993171604   train_acc=> 0.7 \n",
            "Iter=> 17   train_cost=> 0.7660947881445909   train_acc=> 0.704 \n",
            "Iter=> 18   train_cost=> 0.767394522447745   train_acc=> 0.708 \n",
            "Iter=> 19   train_cost=> 0.7666808888269254   train_acc=> 0.7 \n",
            "Iter=> 20   train_cost=> 0.7680832338923542   train_acc=> 0.704 \n"
          ],
          "name": "stdout"
        }
      ]
    },
    {
      "cell_type": "markdown",
      "metadata": {
        "id": "_0KN2j9lWI_R"
      },
      "source": [
        "## Cost Plot of Model-1"
      ]
    },
    {
      "cell_type": "code",
      "metadata": {
        "colab": {
          "base_uri": "https://localhost:8080/",
          "height": 286
        },
        "id": "TnQU5gmrVimZ",
        "outputId": "24808797-113b-4e1d-d5ba-c0a852059ffd"
      },
      "source": [
        "plt.plot(cost_list_1)"
      ],
      "execution_count": 33,
      "outputs": [
        {
          "output_type": "execute_result",
          "data": {
            "text/plain": [
              "[<matplotlib.lines.Line2D at 0x7f90de0cbed0>]"
            ]
          },
          "metadata": {
            "tags": []
          },
          "execution_count": 33
        },
        {
          "output_type": "display_data",
          "data": {
            "image/png": "[encoded data removed]",
            "text/plain": [
              "<Figure size 432x288 with 1 Axes>"
            ]
          },
          "metadata": {
            "tags": []
          }
        }
      ]
    },
    {
      "cell_type": "markdown",
      "metadata": {
        "id": "6mQU4saMWMxy"
      },
      "source": [
        "## Training Accuracy Plot of Model-1"
      ]
    },
    {
      "cell_type": "code",
      "metadata": {
        "colab": {
          "base_uri": "https://localhost:8080/",
          "height": 285
        },
        "id": "MPXF2BLwVoIZ",
        "outputId": "1921f230-0663-41be-9018-0bbecdcba47b"
      },
      "source": [
        "plt.plot(train_acc_list_1)"
      ],
      "execution_count": 34,
      "outputs": [
        {
          "output_type": "execute_result",
          "data": {
            "text/plain": [
              "[<matplotlib.lines.Line2D at 0x7f90deb12a90>]"
            ]
          },
          "metadata": {
            "tags": []
          },
          "execution_count": 34
        },
        {
          "output_type": "display_data",
          "data": {
            "image/png": "[encoded data removed]",
            "text/plain": [
              "<Figure size 432x288 with 1 Axes>"
            ]
          },
          "metadata": {
            "tags": []
          }
        }
      ]
    },
    {
      "cell_type": "markdown",
      "metadata": {
        "id": "EuG6oxpIR95T"
      },
      "source": [
        "# Model-2"
      ]
    },
    {
      "cell_type": "markdown",
      "metadata": {
        "id": "up0q4ehrR_9r"
      },
      "source": [
        "## Data for model-2\n",
        "0->covid, 1->Normal, 2->Penumonia"
      ]
    },
    {
      "cell_type": "markdown",
      "metadata": {
        "id": "kqB8sMaiPHKj"
      },
      "source": [
        "#### Here the labels are modified accordingly for Model-2"
      ]
    },
    {
      "cell_type": "code",
      "metadata": {
        "id": "MG-55rGiSGaI"
      },
      "source": [
        "x_train_2 = []\n",
        "y_train_2 = []\n",
        "\n",
        "for i in range(len(y_train)):\n",
        "    if(y_train[i]==0):   ## covid\n",
        "        x_train_2.append(x_train_final[i])\n",
        "        y_train_2.append(1)\n",
        "    elif(y_train[i]==2):  ## pneumonia\n",
        "        x_train_2.append(x_train_final[i])\n",
        "        y_train_2.append(-1)\n",
        "\n",
        "\n",
        "x_train_2 = np.array(x_train_2)\n",
        "y_train_2 = np.array(y_train_2)"
      ],
      "execution_count": 35,
      "outputs": []
    },
    {
      "cell_type": "markdown",
      "metadata": {
        "id": "d-DYdwjIS4_T"
      },
      "source": [
        "## Binary Classifier Model-2"
      ]
    },
    {
      "cell_type": "code",
      "metadata": {
        "colab": {
          "base_uri": "https://localhost:8080/"
        },
        "id": "osCtRvneS3FM",
        "outputId": "1efd789b-fb89-4633-947d-bd0065212012"
      },
      "source": [
        "params_2 = (0.01 * np.random.randn(2, 2, 3), 0.0)\n",
        "params_2"
      ],
      "execution_count": 36,
      "outputs": [
        {
          "output_type": "execute_result",
          "data": {
            "text/plain": [
              "(tensor([[[-0.01642739, -0.00303444,  0.00879709],\n",
              "          [ 0.00396784,  0.03160051, -0.00861578]],\n",
              " \n",
              "         [[ 0.00302629,  0.00091985,  0.00371899],\n",
              "          [ 0.01023066, -0.00811128, -0.00915326]]], requires_grad=True), 0.0)"
            ]
          },
          "metadata": {
            "tags": []
          },
          "execution_count": 36
        }
      ]
    },
    {
      "cell_type": "code",
      "metadata": {
        "colab": {
          "base_uri": "https://localhost:8080/"
        },
        "id": "uKoRU8xBTEiL",
        "outputId": "03f95d69-e7e9-4469-da64-86e06e1d561e"
      },
      "source": [
        "iters = 20\n",
        "optimizer_2 = qml.AdagradOptimizer(stepsize=0.5)\n",
        "\n",
        "cost_list_2 = []\n",
        "train_acc_list_2 = []\n",
        "\n",
        "for iter in range(iters):\n",
        "    params_2 = optimizer_2.step(lambda v: cost_2(v, x_train_2, y_train_2), params_2)\n",
        "\n",
        "    cost_list_2.append(cost_2(params_2, x_train_2, y_train_2))\n",
        "    train_acc_list_2.append(accuracy_2(params_2, x_train_2, y_train_2, iter))"
      ],
      "execution_count": 37,
      "outputs": [
        {
          "output_type": "stream",
          "text": [
            "Iter=> 1   train_cost=> 1.347974932146223   train_acc=> 0.4444444444444444 \n",
            "Iter=> 2   train_cost=> 0.9856259090057776   train_acc=> 0.6388888888888888 \n",
            "Iter=> 3   train_cost=> 0.9925207251175971   train_acc=> 0.6222222222222222 \n",
            "Iter=> 4   train_cost=> 1.004129402328754   train_acc=> 0.6166666666666667 \n",
            "Iter=> 5   train_cost=> 0.8884518646533924   train_acc=> 0.6611111111111111 \n",
            "Iter=> 6   train_cost=> 0.8091313055032515   train_acc=> 0.7 \n",
            "Iter=> 7   train_cost=> 0.7829457458090165   train_acc=> 0.7111111111111111 \n",
            "Iter=> 8   train_cost=> 0.7681887981986943   train_acc=> 0.7166666666666667 \n",
            "Iter=> 9   train_cost=> 0.7599551749217474   train_acc=> 0.7222222222222222 \n",
            "Iter=> 10   train_cost=> 0.753346260706608   train_acc=> 0.7277777777777777 \n",
            "Iter=> 11   train_cost=> 0.7492179270476366   train_acc=> 0.7388888888888889 \n",
            "Iter=> 12   train_cost=> 0.7460577481431032   train_acc=> 0.7388888888888889 \n",
            "Iter=> 13   train_cost=> 0.7437081027338572   train_acc=> 0.7444444444444445 \n",
            "Iter=> 14   train_cost=> 0.7418335293994769   train_acc=> 0.7444444444444445 \n",
            "Iter=> 15   train_cost=> 0.7403042064384163   train_acc=> 0.75 \n",
            "Iter=> 16   train_cost=> 0.7390145390398503   train_acc=> 0.75 \n",
            "Iter=> 17   train_cost=> 0.7379022344378474   train_acc=> 0.7555555555555555 \n",
            "Iter=> 18   train_cost=> 0.7369217587371343   train_acc=> 0.7555555555555555 \n",
            "Iter=> 19   train_cost=> 0.7360424737515406   train_acc=> 0.75 \n",
            "Iter=> 20   train_cost=> 0.7352414799044594   train_acc=> 0.75 \n"
          ],
          "name": "stdout"
        }
      ]
    },
    {
      "cell_type": "markdown",
      "metadata": {
        "id": "RGjV2w46Wbct"
      },
      "source": [
        "## Cost Plot of Model-2"
      ]
    },
    {
      "cell_type": "code",
      "metadata": {
        "colab": {
          "base_uri": "https://localhost:8080/",
          "height": 285
        },
        "id": "R_d6_C8AWdv1",
        "outputId": "bd14df2f-5b7d-4a59-fee0-c632af6956ae"
      },
      "source": [
        "plt.plot(cost_list_2)"
      ],
      "execution_count": 38,
      "outputs": [
        {
          "output_type": "execute_result",
          "data": {
            "text/plain": [
              "[<matplotlib.lines.Line2D at 0x7f90defe4150>]"
            ]
          },
          "metadata": {
            "tags": []
          },
          "execution_count": 38
        },
        {
          "output_type": "display_data",
          "data": {
            "image/png": "[encoded data removed]",
            "text/plain": [
              "<Figure size 432x288 with 1 Axes>"
            ]
          },
          "metadata": {
            "tags": []
          }
        }
      ]
    },
    {
      "cell_type": "markdown",
      "metadata": {
        "id": "UENuiv_wWgGX"
      },
      "source": [
        "## Training Accuracy Plot of Model-2"
      ]
    },
    {
      "cell_type": "code",
      "metadata": {
        "colab": {
          "base_uri": "https://localhost:8080/",
          "height": 285
        },
        "id": "vwcCN-_6WlC4",
        "outputId": "5912aeac-b153-4bca-feaa-86e7c22d31d6"
      },
      "source": [
        "plt.plot(train_acc_list_2)"
      ],
      "execution_count": 39,
      "outputs": [
        {
          "output_type": "execute_result",
          "data": {
            "text/plain": [
              "[<matplotlib.lines.Line2D at 0x7f90ddfd8d50>]"
            ]
          },
          "metadata": {
            "tags": []
          },
          "execution_count": 39
        },
        {
          "output_type": "display_data",
          "data": {
            "image/png": "[encoded data removed]",
            "text/plain": [
              "<Figure size 432x288 with 1 Axes>"
            ]
          },
          "metadata": {
            "tags": []
          }
        }
      ]
    },
    {
      "cell_type": "markdown",
      "metadata": {
        "id": "wKuT5KBeTiQk"
      },
      "source": [
        "# Prediction"
      ]
    },
    {
      "cell_type": "markdown",
      "metadata": {
        "id": "gqLx2cuKPcVW"
      },
      "source": [
        "### While Predicting, we first give input to the Model-1. If it predicts as Normal person, then it is the final prediction assigned to the input. If not, then we give the same input to Model-2 and it finally predicts whether the chest x-ray is Covid10 patient or Viral Pneumonia patient. "
      ]
    },
    {
      "cell_type": "code",
      "metadata": {
        "id": "7Y1yxaM9Tao4"
      },
      "source": [
        "y_pred = []\n",
        "\n",
        "for i in range(len(x_test_final)):\n",
        "    tmp = classifier_prediction_1(params_1, x=x_test_final[i])\n",
        "    if (tmp == 1):  ## Normal person\n",
        "        y_pred.append(1)\n",
        "    else:   ## Covid or Pneumonia\n",
        "        tmp = classifier_prediction_2(params_2, x=x_test_final[i])\n",
        "        if(tmp == 1):  ## covid\n",
        "            y_pred.append(0)\n",
        "        elif(tmp == -1): ## Pneumonia\n",
        "            y_pred.append(2)\n",
        "\n",
        "y_pred = np.array(y_pred)"
      ],
      "execution_count": 40,
      "outputs": []
    },
    {
      "cell_type": "code",
      "metadata": {
        "colab": {
          "base_uri": "https://localhost:8080/"
        },
        "id": "r1trY_8EUuaM",
        "outputId": "e9a245f3-93e8-4cc3-d7e3-1fcc8d9a08f5"
      },
      "source": [
        "print(\"Final_Test_Accuracy => \", np.sum(y_pred==y_test)/len(y_test))"
      ],
      "execution_count": 41,
      "outputs": [
        {
          "output_type": "stream",
          "text": [
            "Final_Test_Accuracy =>  0.49230769230769234\n"
          ],
          "name": "stdout"
        }
      ]
    },
    {
      "cell_type": "markdown",
      "metadata": {
        "id": "tQzw0oEbQIAk"
      },
      "source": [
        "### We are hopeful to in increment in this accuracy when it will be trained on real computer with larger dataset. "
      ]
    }
  ]
}